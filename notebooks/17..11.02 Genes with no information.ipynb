{
 "cells": [
  {
   "cell_type": "code",
   "execution_count": 3,
   "metadata": {},
   "outputs": [],
   "source": [
    "import json\n",
    "import pandas as pd\n",
    "from yome import Session\n",
    "from yome.models import *\n",
    "from yome.util import to_df, report\n",
    "import re"
   ]
  },
  {
   "cell_type": "code",
   "execution_count": 4,
   "metadata": {
    "collapsed": true
   },
   "outputs": [],
   "source": [
    "from sqlalchemy import exists\n",
    "from sqlalchemy.orm import aliased"
   ]
  },
  {
   "cell_type": "markdown",
   "metadata": {},
   "source": [
    "# Look for genes that have absolutely no information"
   ]
  },
  {
   "cell_type": "code",
   "execution_count": 3,
   "metadata": {},
   "outputs": [],
   "source": [
    "session = Session()\n",
    "\n",
    "# aliases\n",
    "KnowledgebaseGene2 = aliased(KnowledgebaseGene)\n",
    "Knowledgebase2 = aliased(Knowledgebase)\n",
    "KnowledgebaseFeature2 = aliased(KnowledgebaseFeature)\n",
    "\n",
    "# Genes with no info in EcoCyc\n",
    "no_info = (\n",
    "    session.query(Gene.locus_id.label('locus_tag'), \n",
    "                  KnowledgebaseGene.id.label('knowledgebase_gene_id'), \n",
    "                  KnowledgebaseGene.primary_name.label('ecocyc_primary_name'),\n",
    "                  Knowledgebase, \n",
    "                  KnowledgebaseFeature.feature)\n",
    "    .join(KnowledgebaseGene)\n",
    "    .join(Knowledgebase)\n",
    "    .join(KnowledgebaseFeature)\n",
    "    .filter(Knowledgebase.name == 'EcoCyc')\n",
    "    .filter(KnowledgebaseFeature.feature_type == 'summary_html')\n",
    "    .filter(KnowledgebaseFeature.feature.like('%No information about this%'))\n",
    ")\n",
    "# Make a subquery\n",
    "no_info_sub = no_info.subquery('no_info_sub')\n",
    "\n",
    "# Genes that do not start with y in EcoCyc and have no information\n",
    "no_info_not_start_y = (\n",
    "    no_info.filter(~KnowledgebaseGene.primary_name.like('y%'))\n",
    ")\n",
    "\n",
    "# Genes with no info in EcoCyc that are not ranked \"high\" in another db\n",
    "no_info_and_not_high = (\n",
    "    no_info\n",
    "    .filter(\n",
    "        ~session.query(KnowledgebaseGene2, Knowledgebase2)\n",
    "        .filter(KnowledgebaseGene2.gene_id == Gene.id)\n",
    "        .join(Knowledgebase2, Knowledgebase2.id == KnowledgebaseGene2.knowledgebase_id)\n",
    "        .filter(KnowledgebaseGene2.annotation_quality == 'high')\n",
    "        .exists()\n",
    "    )\n",
    ")\n",
    "\n",
    "# Genes with no info in EcoCyc that are ranked \"high\" in another db\n",
    "no_info_and_high = (\n",
    "    no_info\n",
    "    .filter(\n",
    "        session.query(KnowledgebaseGene2, Knowledgebase2)\n",
    "        .filter(KnowledgebaseGene2.gene_id == Gene.id)\n",
    "        .join(Knowledgebase2, Knowledgebase2.id == KnowledgebaseGene2.knowledgebase_id)\n",
    "        .filter(KnowledgebaseGene2.annotation_quality == 'high')\n",
    "        .exists()\n",
    "    )\n",
    ")\n",
    "\n",
    "# Examples of no_info_and_not_high\n",
    "no_info_and_not_high_examples = (\n",
    "    session.query(Gene.locus_id,\n",
    "                  KnowledgebaseGene.id,\n",
    "                  KnowledgebaseGene2.primary_name,\n",
    "                  KnowledgebaseGene2.annotation_quality,\n",
    "                  Knowledgebase2.name,\n",
    "                  KnowledgebaseFeature2.feature_type,\n",
    "                  KnowledgebaseFeature2.feature)\n",
    "    .filter(Gene.locus_id == no_info_sub.c.locus_tag)\n",
    "    .filter(KnowledgebaseGene.id == no_info_sub.c.knowledgebase_gene_id)\n",
    "    .join(KnowledgebaseGene2, KnowledgebaseGene2.gene_id == Gene.id)\n",
    "    .join(Knowledgebase2, Knowledgebase2.id == KnowledgebaseGene2.knowledgebase_id)\n",
    "    .join(KnowledgebaseFeature2, KnowledgebaseFeature2.knowledgebase_gene_id == KnowledgebaseGene2.id)\n",
    "    .filter(Knowledgebase2.name != 'EcoCyc')\n",
    "    .filter(Knowledgebase2.name != 'Y-ome')\n",
    ")\n",
    "\n",
    "session.close()"
   ]
  },
  {
   "cell_type": "code",
   "execution_count": 4,
   "metadata": {},
   "outputs": [
    {
     "data": {
      "text/plain": [
       "(524, 55, 511, 13, 5156)"
      ]
     },
     "execution_count": 4,
     "metadata": {},
     "output_type": "execute_result"
    }
   ],
   "source": [
    "no_info.count(), no_info_not_start_y.count(), no_info_and_not_high.count(), no_info_and_high.count(), no_info_and_not_high_examples.count()"
   ]
  },
  {
   "cell_type": "code",
   "execution_count": 5,
   "metadata": {},
   "outputs": [],
   "source": [
    "df = to_df(no_info_and_not_high_examples, ['locus_tag', 'ig1', 'name', 'annotation_quality', 'kbase', 'feature_type', 'feature']).drop('ig1', axis=1)"
   ]
  },
  {
   "cell_type": "code",
   "execution_count": 6,
   "metadata": {},
   "outputs": [
    {
     "data": {
      "text/html": [
       "<div>\n",
       "<style scoped>\n",
       "    .dataframe tbody tr th:only-of-type {\n",
       "        vertical-align: middle;\n",
       "    }\n",
       "\n",
       "    .dataframe tbody tr th {\n",
       "        vertical-align: top;\n",
       "    }\n",
       "\n",
       "    .dataframe thead th {\n",
       "        text-align: right;\n",
       "    }\n",
       "</style>\n",
       "<table border=\"1\" class=\"dataframe\">\n",
       "  <thead>\n",
       "    <tr style=\"text-align: right;\">\n",
       "      <th></th>\n",
       "      <th>locus_tag</th>\n",
       "      <th>name</th>\n",
       "      <th>annotation_quality</th>\n",
       "      <th>kbase</th>\n",
       "      <th>feature_type</th>\n",
       "      <th>feature</th>\n",
       "    </tr>\n",
       "  </thead>\n",
       "  <tbody>\n",
       "    <tr>\n",
       "      <th>3415</th>\n",
       "      <td>b1811</td>\n",
       "      <td>yoaH</td>\n",
       "      <td>low</td>\n",
       "      <td>EcoGene</td>\n",
       "      <td>comments</td>\n",
       "      <td>Null</td>\n",
       "    </tr>\n",
       "    <tr>\n",
       "      <th>3416</th>\n",
       "      <td>b1811</td>\n",
       "      <td>yoaH</td>\n",
       "      <td>low</td>\n",
       "      <td>EcoGene</td>\n",
       "      <td>description</td>\n",
       "      <td>UPF0181 family protein, function unknown</td>\n",
       "    </tr>\n",
       "    <tr>\n",
       "      <th>3417</th>\n",
       "      <td>b1811</td>\n",
       "      <td>yoaH</td>\n",
       "      <td>low</td>\n",
       "      <td>EcoGene</td>\n",
       "      <td>function</td>\n",
       "      <td>Null</td>\n",
       "    </tr>\n",
       "    <tr>\n",
       "      <th>3418</th>\n",
       "      <td>b1811</td>\n",
       "      <td>yoaH</td>\n",
       "      <td>low</td>\n",
       "      <td>EcoGene</td>\n",
       "      <td>is_pseudogene</td>\n",
       "      <td>f</td>\n",
       "    </tr>\n",
       "    <tr>\n",
       "      <th>3419</th>\n",
       "      <td>b1811</td>\n",
       "      <td>yoaH</td>\n",
       "      <td>low</td>\n",
       "      <td>EcoGene</td>\n",
       "      <td>protein</td>\n",
       "      <td>UPF0181 family protein</td>\n",
       "    </tr>\n",
       "    <tr>\n",
       "      <th>3420</th>\n",
       "      <td>b1811</td>\n",
       "      <td>yoaH</td>\n",
       "      <td>low</td>\n",
       "      <td>UniProt</td>\n",
       "      <td>annotation_score</td>\n",
       "      <td>1</td>\n",
       "    </tr>\n",
       "    <tr>\n",
       "      <th>3421</th>\n",
       "      <td>b1811</td>\n",
       "      <td>yoaH</td>\n",
       "      <td>low</td>\n",
       "      <td>UniProt</td>\n",
       "      <td>features</td>\n",
       "      <td>Chain (1)</td>\n",
       "    </tr>\n",
       "    <tr>\n",
       "      <th>3422</th>\n",
       "      <td>b1811</td>\n",
       "      <td>yoaH</td>\n",
       "      <td>low</td>\n",
       "      <td>UniProt</td>\n",
       "      <td>protein</td>\n",
       "      <td>UPF0181 protein YoaH</td>\n",
       "    </tr>\n",
       "    <tr>\n",
       "      <th>3423</th>\n",
       "      <td>b1811</td>\n",
       "      <td>yoaH</td>\n",
       "      <td>low</td>\n",
       "      <td>UniProt</td>\n",
       "      <td>upid</td>\n",
       "      <td>P67338</td>\n",
       "    </tr>\n",
       "    <tr>\n",
       "      <th>3424</th>\n",
       "      <td>b1811</td>\n",
       "      <td>yoaH</td>\n",
       "      <td>tbd</td>\n",
       "      <td>RefSeq</td>\n",
       "      <td>product</td>\n",
       "      <td>UPF0181 family protein</td>\n",
       "    </tr>\n",
       "  </tbody>\n",
       "</table>\n",
       "</div>"
      ],
      "text/plain": [
       "     locus_tag  name annotation_quality    kbase      feature_type  \\\n",
       "3415     b1811  yoaH                low  EcoGene          comments   \n",
       "3416     b1811  yoaH                low  EcoGene       description   \n",
       "3417     b1811  yoaH                low  EcoGene          function   \n",
       "3418     b1811  yoaH                low  EcoGene     is_pseudogene   \n",
       "3419     b1811  yoaH                low  EcoGene           protein   \n",
       "3420     b1811  yoaH                low  UniProt  annotation_score   \n",
       "3421     b1811  yoaH                low  UniProt          features   \n",
       "3422     b1811  yoaH                low  UniProt           protein   \n",
       "3423     b1811  yoaH                low  UniProt              upid   \n",
       "3424     b1811  yoaH                tbd   RefSeq           product   \n",
       "\n",
       "                                       feature  \n",
       "3415                                      Null  \n",
       "3416  UPF0181 family protein, function unknown  \n",
       "3417                                      Null  \n",
       "3418                                         f  \n",
       "3419                    UPF0181 family protein  \n",
       "3420                                         1  \n",
       "3421                                 Chain (1)  \n",
       "3422                      UPF0181 protein YoaH  \n",
       "3423                                    P67338  \n",
       "3424                    UPF0181 family protein  "
      ]
     },
     "execution_count": 6,
     "metadata": {},
     "output_type": "execute_result"
    }
   ],
   "source": [
    "df[df.locus_tag == 'b1811']"
   ]
  },
  {
   "cell_type": "markdown",
   "metadata": {},
   "source": [
    "## Filter out phrases for other databases"
   ]
  },
  {
   "cell_type": "code",
   "execution_count": 7,
   "metadata": {},
   "outputs": [],
   "source": [
    "# TODO This doesn't capture cases like b1811 EcoGene and UniProt don't even have features to check\n",
    "\n",
    "phrases = [\n",
    "    ('EcoGene', r'.* family protein$'),\n",
    "    ('EcoGene', r'.* family\\.?$'),\n",
    "    ('EcoGene', r'Null'),\n",
    "    ('EcoGene', r'Putative enzyme; Not classified'),\n",
    "    ('EcoGene', r'Phenotype; Not classified'),\n",
    "    ('EcoGene', r'Putative factor; Not classified'),\n",
    "    ('EcoGene', r'.*uncharacterized protein.*'),\n",
    "    ('EcoGene', r'.*pseudogene.*'),\n",
    "    ('EcoGene', r'.*function unknown.*'),\n",
    "    ('EcoGene', r'.*Phage or Prophage Related.*'),\n",
    "    ('EcoGene', r'^t|f$'),\n",
    "    ('EcoGene', r'Orf; Not classified'),\n",
    "    ('UniProt', r'^$'),\n",
    "    ('UniProt', r'Chain \\(1\\)'),\n",
    "    ('UniProt', r'^\\d\\.0$'),\n",
    "    ('UniProt', r'^\\d$'),\n",
    "    ('UniProt', r'^Putative uncharacterized'),\n",
    "    ('UniProt', r'^Putative protein'),\n",
    "    ('UniProt', r'^Uncharacterized protein'),\n",
    "    ('UniProt', r'^Protein .{4}$'),\n",
    "    ('UniProt', r'^UPF\\d{4} Protein .{4}$'),\n",
    "    ('UniProt', r'FUNCTION: Not yet known\\.'),\n",
    "    ('UniProt', r'^t|f$'),\n",
    "    ('RefSeq', r' family protein$'),\n",
    "    ('RefSeq', r'^{}$'),\n",
    "    ('RefSeq', r'^t|f$'),\n",
    "    ('RefSeq', r'uncharacterized protein'),\n",
    "    ('RefSeq', r'putative enzyme; Not classified'),\n",
    "    ('RefSeq', r'putative regulator; Not classified'),\n",
    "    ('RefSeq', r'orf; Not classified'),\n",
    "    ('RefSeq', r'putative factor; Not classified'),\n",
    "]\n",
    "ignore_feature_types = [\n",
    "    ('UniProt', 'upid')\n",
    "]\n",
    "df_filtered = df\n",
    "for kbase, reg in phrases:\n",
    "    df_filtered = df_filtered[~((df_filtered.kbase == kbase) & df_filtered.feature.str.contains(reg, flags=re.IGNORECASE))]\n",
    "for kbase, feature_type in ignore_feature_types:\n",
    "    df_filtered = df_filtered[~((df_filtered.kbase == kbase) & (df_filtered.feature_type == feature_type))]"
   ]
  },
  {
   "cell_type": "code",
   "execution_count": 8,
   "metadata": {
    "collapsed": true
   },
   "outputs": [],
   "source": [
    "# df_filtered.to_csv('no-ecocyc-info-other-db-annotations.tsv', sep='\\t')"
   ]
  },
  {
   "cell_type": "code",
   "execution_count": 9,
   "metadata": {},
   "outputs": [],
   "source": [
    "# Find no info genes that are not in the filtered list\n",
    "session = Session()\n",
    "no_info_not_in_filtered = (\n",
    "    no_info\n",
    "    .filter(Gene.locus_id.notin_(df_filtered.loc[:, 'locus_tag']))\n",
    ")\n",
    "session.close()"
   ]
  },
  {
   "cell_type": "code",
   "execution_count": 10,
   "metadata": {},
   "outputs": [],
   "source": [
    "# double check numbers add up\n",
    "assert(no_info.count() == no_info_not_in_filtered.count() + len(df_filtered.locus_tag.unique()))"
   ]
  },
  {
   "cell_type": "markdown",
   "metadata": {},
   "source": [
    "## These are the genes that really have no hints at all:"
   ]
  },
  {
   "cell_type": "code",
   "execution_count": 11,
   "metadata": {},
   "outputs": [
    {
     "data": {
      "text/plain": [
       "131"
      ]
     },
     "execution_count": 11,
     "metadata": {},
     "output_type": "execute_result"
    }
   ],
   "source": [
    "no_info_not_in_filtered.count()"
   ]
  },
  {
   "cell_type": "code",
   "execution_count": 12,
   "metadata": {
    "collapsed": true
   },
   "outputs": [],
   "source": [
    "no_info_not_in_filtered_df = to_df(no_info_not_in_filtered)"
   ]
  },
  {
   "cell_type": "code",
   "execution_count": 13,
   "metadata": {},
   "outputs": [
    {
     "data": {
      "text/plain": [
       "131"
      ]
     },
     "execution_count": 13,
     "metadata": {},
     "output_type": "execute_result"
    }
   ],
   "source": [
    "len(no_info_not_in_filtered_df)"
   ]
  },
  {
   "cell_type": "markdown",
   "metadata": {},
   "source": [
    "## List with primary names"
   ]
  },
  {
   "cell_type": "code",
   "execution_count": 15,
   "metadata": {},
   "outputs": [],
   "source": [
    "no_info_not_in_filtered_df.loc[:, ['locus_tag', 'ecocyc_primary_name']].to_csv('../data/no-information.tsv', sep='\\t', index=False)"
   ]
  },
  {
   "cell_type": "code",
   "execution_count": null,
   "metadata": {
    "collapsed": true
   },
   "outputs": [],
   "source": []
  }
 ],
 "metadata": {
  "kernelspec": {
   "display_name": "Python 3",
   "language": "python",
   "name": "python3"
  },
  "language_info": {
   "codemirror_mode": {
    "name": "ipython",
    "version": 3
   },
   "file_extension": ".py",
   "mimetype": "text/x-python",
   "name": "python",
   "nbconvert_exporter": "python",
   "pygments_lexer": "ipython3",
   "version": "3.6.5"
  }
 },
 "nbformat": 4,
 "nbformat_minor": 2
}
