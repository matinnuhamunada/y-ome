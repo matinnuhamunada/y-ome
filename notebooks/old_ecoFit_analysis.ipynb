{
 "cells": [
  {
   "cell_type": "markdown",
   "metadata": {},
   "source": [
    "# Import Necessary Packages"
   ]
  },
  {
   "cell_type": "code",
   "execution_count": 1,
   "metadata": {
    "ExecuteTime": {
     "end_time": "2017-09-24T13:35:28.328746",
     "start_time": "2017-09-24T13:35:26.194920"
    }
   },
   "outputs": [
    {
     "ename": "ModuleNotFoundError",
     "evalue": "No module named 'sqlalchemy'",
     "output_type": "error",
     "traceback": [
      "\u001b[0;31m---------------------------------------------------------------------------\u001b[0m",
      "\u001b[0;31mModuleNotFoundError\u001b[0m                       Traceback (most recent call last)",
      "\u001b[0;32m<ipython-input-1-aa21c7c61ca1>\u001b[0m in \u001b[0;36m<module>\u001b[0;34m()\u001b[0m\n\u001b[1;32m      4\u001b[0m \u001b[0mget_ipython\u001b[0m\u001b[0;34m(\u001b[0m\u001b[0;34m)\u001b[0m\u001b[0;34m.\u001b[0m\u001b[0mrun_line_magic\u001b[0m\u001b[0;34m(\u001b[0m\u001b[0;34m'matplotlib'\u001b[0m\u001b[0;34m,\u001b[0m \u001b[0;34m'inline'\u001b[0m\u001b[0;34m)\u001b[0m\u001b[0;34m\u001b[0m\u001b[0m\n\u001b[1;32m      5\u001b[0m \u001b[0;34m\u001b[0m\u001b[0m\n\u001b[0;32m----> 6\u001b[0;31m \u001b[0;32mfrom\u001b[0m \u001b[0myome\u001b[0m \u001b[0;32mimport\u001b[0m \u001b[0mSession\u001b[0m\u001b[0;34m\u001b[0m\u001b[0m\n\u001b[0m\u001b[1;32m      7\u001b[0m \u001b[0;32mfrom\u001b[0m \u001b[0myome\u001b[0m\u001b[0;34m.\u001b[0m\u001b[0mmodels\u001b[0m \u001b[0;32mimport\u001b[0m \u001b[0;34m*\u001b[0m\u001b[0;34m\u001b[0m\u001b[0m\n\u001b[1;32m      8\u001b[0m \u001b[0;32mfrom\u001b[0m \u001b[0myome\u001b[0m\u001b[0;34m.\u001b[0m\u001b[0mutil\u001b[0m \u001b[0;32mimport\u001b[0m \u001b[0mto_df\u001b[0m\u001b[0;34m\u001b[0m\u001b[0m\n",
      "\u001b[0;32m~/repos/y-ome/yome/__init__.py\u001b[0m in \u001b[0;36m<module>\u001b[0;34m()\u001b[0m\n\u001b[1;32m      1\u001b[0m \u001b[0;32mfrom\u001b[0m \u001b[0myome\u001b[0m\u001b[0;34m.\u001b[0m\u001b[0mversion\u001b[0m \u001b[0;32mimport\u001b[0m \u001b[0m__version__\u001b[0m\u001b[0;34m\u001b[0m\u001b[0m\n\u001b[0;32m----> 2\u001b[0;31m \u001b[0;32mfrom\u001b[0m \u001b[0myome\u001b[0m\u001b[0;34m.\u001b[0m\u001b[0mmodels\u001b[0m \u001b[0;32mimport\u001b[0m \u001b[0mSession\u001b[0m\u001b[0;34m,\u001b[0m \u001b[0mBase\u001b[0m\u001b[0;34m,\u001b[0m \u001b[0mengine\u001b[0m\u001b[0;34m\u001b[0m\u001b[0m\n\u001b[0m",
      "\u001b[0;32m~/repos/y-ome/yome/models.py\u001b[0m in \u001b[0;36m<module>\u001b[0;34m()\u001b[0m\n\u001b[0;32m----> 1\u001b[0;31m from sqlalchemy import (\n\u001b[0m\u001b[1;32m      2\u001b[0m     \u001b[0mcreate_engine\u001b[0m\u001b[0;34m,\u001b[0m\u001b[0;34m\u001b[0m\u001b[0m\n\u001b[1;32m      3\u001b[0m     \u001b[0mInteger\u001b[0m\u001b[0;34m,\u001b[0m\u001b[0;34m\u001b[0m\u001b[0m\n\u001b[1;32m      4\u001b[0m     \u001b[0mString\u001b[0m\u001b[0;34m,\u001b[0m\u001b[0;34m\u001b[0m\u001b[0m\n\u001b[1;32m      5\u001b[0m     \u001b[0mSequence\u001b[0m\u001b[0;34m,\u001b[0m\u001b[0;34m\u001b[0m\u001b[0m\n",
      "\u001b[0;31mModuleNotFoundError\u001b[0m: No module named 'sqlalchemy'"
     ]
    }
   ],
   "source": [
    "import pandas as pd\n",
    "import numpy as np\n",
    "import matplotlib.pyplot as plt\n",
    "%matplotlib inline\n",
    "\n",
    "from yome import Session\n",
    "from yome.models import *\n",
    "from yome.util import to_df\n",
    "import pandas as pd\n",
    "from os.path import dirname, realpath, join\n",
    "import glob\n",
    "import logging\n",
    "\n",
    "pd.set_option('display.max_rows', None)\n",
    "pd.set_option('display.max_columns', None)"
   ]
  },
  {
   "cell_type": "markdown",
   "metadata": {},
   "source": [
    "# Import/Format Necessary Tables"
   ]
  },
  {
   "cell_type": "markdown",
   "metadata": {},
   "source": [
    "## Import EcoFit Ratios for Specific Phenotypes (specphes)"
   ]
  },
  {
   "cell_type": "code",
   "execution_count": 3,
   "metadata": {
    "ExecuteTime": {
     "end_time": "2017-09-24T13:35:28.473028",
     "start_time": "2017-09-24T13:35:28.329600"
    },
    "collapsed": true
   },
   "outputs": [],
   "source": [
    "genefit = pd.read_csv('fit_logratios_good.tab', sep='\\t')"
   ]
  },
  {
   "cell_type": "code",
   "execution_count": 4,
   "metadata": {
    "ExecuteTime": {
     "end_time": "2017-09-24T13:35:28.616322",
     "start_time": "2017-09-24T13:35:28.473937"
    }
   },
   "outputs": [],
   "source": [
    "meta = pd.read_csv('expsUsed.txt', sep='\\t')\n",
    "meta = meta.drop(['SetName', 'Index','Drop', 'num',],1)"
   ]
  },
  {
   "cell_type": "code",
   "execution_count": 5,
   "metadata": {
    "ExecuteTime": {
     "end_time": "2017-09-24T13:36:04.487050",
     "start_time": "2017-09-24T13:35:28.617283"
    }
   },
   "outputs": [],
   "source": [
    "phen = pd.read_csv('key_phen.txt', sep='\\t')\n",
    "phen.columns = phen.columns.str.replace('specphe.','')\n",
    "\n",
    "match = genefit[genefit.locusId.isin(phen.locusId)]\n",
    "\n",
    "for index, row in phen.iterrows():\n",
    "    for index2, row2 in match.iterrows():\n",
    "        if row.locusId == row2.locusId:\n",
    "            phen.loc[index, 'b_num'] = row2.sysName\n",
    "\n",
    "phen = phen.drop(['Condition_2', 'Concentration_2', 'Units_2', 'locusId' ],1)"
   ]
  },
  {
   "cell_type": "code",
   "execution_count": 6,
   "metadata": {
    "ExecuteTime": {
     "end_time": "2017-09-24T13:36:04.489806",
     "start_time": "2017-09-24T13:36:04.488014"
    }
   },
   "outputs": [],
   "source": [
    "#phen.to_csv('ecofit_specphen_edited.csv', sep = '\\t', index = False)\n",
    "#meta_full = meta[['name', 'Description', 'Condition_1', 'Condition_2','Media', 'Growth.Method', 'Temperature', 'pH', 'Timecourse.Sample']]\n",
    "#meta_full.to_csv('ecofit_meta_full.csv', sep = '\\t', index = False)\n"
   ]
  },
  {
   "cell_type": "markdown",
   "metadata": {},
   "source": [
    "## Import EcoFit Ratios and t-test like statistic for All Experiments"
   ]
  },
  {
   "cell_type": "code",
   "execution_count": 7,
   "metadata": {
    "ExecuteTime": {
     "end_time": "2017-09-24T13:36:05.021857",
     "start_time": "2017-09-24T13:36:04.490824"
    }
   },
   "outputs": [
    {
     "ename": "FileNotFoundError",
     "evalue": "File b'fit_t.tab' does not exist",
     "output_type": "error",
     "traceback": [
      "\u001b[0;31m---------------------------------------------------------------------------\u001b[0m",
      "\u001b[0;31mFileNotFoundError\u001b[0m                         Traceback (most recent call last)",
      "\u001b[0;32m<ipython-input-7-bfca63e0c317>\u001b[0m in \u001b[0;36m<module>\u001b[0;34m()\u001b[0m\n\u001b[1;32m      2\u001b[0m \u001b[0mall_bnums\u001b[0m \u001b[0;34m=\u001b[0m \u001b[0mallfit\u001b[0m\u001b[0;34m.\u001b[0m\u001b[0msysName\u001b[0m\u001b[0;34m\u001b[0m\u001b[0m\n\u001b[1;32m      3\u001b[0m \u001b[0mallfit\u001b[0m \u001b[0;34m=\u001b[0m \u001b[0mallfit\u001b[0m\u001b[0;34m.\u001b[0m\u001b[0mdrop\u001b[0m\u001b[0;34m(\u001b[0m\u001b[0;34m[\u001b[0m\u001b[0;34m'locusId'\u001b[0m\u001b[0;34m,\u001b[0m \u001b[0;34m'desc'\u001b[0m\u001b[0;34m,\u001b[0m \u001b[0;34m'comb'\u001b[0m\u001b[0;34m,\u001b[0m \u001b[0;34m'sysName'\u001b[0m\u001b[0;34m]\u001b[0m\u001b[0;34m,\u001b[0m\u001b[0;36m1\u001b[0m\u001b[0;34m)\u001b[0m\u001b[0;34m\u001b[0m\u001b[0m\n\u001b[0;32m----> 4\u001b[0;31m \u001b[0mall_t\u001b[0m \u001b[0;34m=\u001b[0m \u001b[0mpd\u001b[0m\u001b[0;34m.\u001b[0m\u001b[0mread_csv\u001b[0m\u001b[0;34m(\u001b[0m\u001b[0;34m'fit_t.tab'\u001b[0m\u001b[0;34m,\u001b[0m \u001b[0msep\u001b[0m \u001b[0;34m=\u001b[0m \u001b[0;34m'\\t'\u001b[0m\u001b[0;34m)\u001b[0m\u001b[0;34m\u001b[0m\u001b[0m\n\u001b[0m\u001b[1;32m      5\u001b[0m \u001b[0mall_t\u001b[0m \u001b[0;34m=\u001b[0m \u001b[0mall_t\u001b[0m\u001b[0;34m.\u001b[0m\u001b[0mdrop\u001b[0m\u001b[0;34m(\u001b[0m\u001b[0;34m[\u001b[0m\u001b[0;34m'locusId'\u001b[0m\u001b[0;34m,\u001b[0m \u001b[0;34m'desc'\u001b[0m\u001b[0;34m,\u001b[0m \u001b[0;34m'sysName'\u001b[0m\u001b[0;34m]\u001b[0m\u001b[0;34m,\u001b[0m \u001b[0;36m1\u001b[0m\u001b[0;34m)\u001b[0m\u001b[0;34m\u001b[0m\u001b[0m\n",
      "\u001b[0;32m/usr/local/lib/python3.6/site-packages/pandas/io/parsers.py\u001b[0m in \u001b[0;36mparser_f\u001b[0;34m(filepath_or_buffer, sep, delimiter, header, names, index_col, usecols, squeeze, prefix, mangle_dupe_cols, dtype, engine, converters, true_values, false_values, skipinitialspace, skiprows, nrows, na_values, keep_default_na, na_filter, verbose, skip_blank_lines, parse_dates, infer_datetime_format, keep_date_col, date_parser, dayfirst, iterator, chunksize, compression, thousands, decimal, lineterminator, quotechar, quoting, escapechar, comment, encoding, dialect, tupleize_cols, error_bad_lines, warn_bad_lines, skipfooter, skip_footer, doublequote, delim_whitespace, as_recarray, compact_ints, use_unsigned, low_memory, buffer_lines, memory_map, float_precision)\u001b[0m\n\u001b[1;32m    653\u001b[0m                     skip_blank_lines=skip_blank_lines)\n\u001b[1;32m    654\u001b[0m \u001b[0;34m\u001b[0m\u001b[0m\n\u001b[0;32m--> 655\u001b[0;31m         \u001b[0;32mreturn\u001b[0m \u001b[0m_read\u001b[0m\u001b[0;34m(\u001b[0m\u001b[0mfilepath_or_buffer\u001b[0m\u001b[0;34m,\u001b[0m \u001b[0mkwds\u001b[0m\u001b[0;34m)\u001b[0m\u001b[0;34m\u001b[0m\u001b[0m\n\u001b[0m\u001b[1;32m    656\u001b[0m \u001b[0;34m\u001b[0m\u001b[0m\n\u001b[1;32m    657\u001b[0m     \u001b[0mparser_f\u001b[0m\u001b[0;34m.\u001b[0m\u001b[0m__name__\u001b[0m \u001b[0;34m=\u001b[0m \u001b[0mname\u001b[0m\u001b[0;34m\u001b[0m\u001b[0m\n",
      "\u001b[0;32m/usr/local/lib/python3.6/site-packages/pandas/io/parsers.py\u001b[0m in \u001b[0;36m_read\u001b[0;34m(filepath_or_buffer, kwds)\u001b[0m\n\u001b[1;32m    403\u001b[0m \u001b[0;34m\u001b[0m\u001b[0m\n\u001b[1;32m    404\u001b[0m     \u001b[0;31m# Create the parser.\u001b[0m\u001b[0;34m\u001b[0m\u001b[0;34m\u001b[0m\u001b[0m\n\u001b[0;32m--> 405\u001b[0;31m     \u001b[0mparser\u001b[0m \u001b[0;34m=\u001b[0m \u001b[0mTextFileReader\u001b[0m\u001b[0;34m(\u001b[0m\u001b[0mfilepath_or_buffer\u001b[0m\u001b[0;34m,\u001b[0m \u001b[0;34m**\u001b[0m\u001b[0mkwds\u001b[0m\u001b[0;34m)\u001b[0m\u001b[0;34m\u001b[0m\u001b[0m\n\u001b[0m\u001b[1;32m    406\u001b[0m \u001b[0;34m\u001b[0m\u001b[0m\n\u001b[1;32m    407\u001b[0m     \u001b[0;32mif\u001b[0m \u001b[0mchunksize\u001b[0m \u001b[0;32mor\u001b[0m \u001b[0miterator\u001b[0m\u001b[0;34m:\u001b[0m\u001b[0;34m\u001b[0m\u001b[0m\n",
      "\u001b[0;32m/usr/local/lib/python3.6/site-packages/pandas/io/parsers.py\u001b[0m in \u001b[0;36m__init__\u001b[0;34m(self, f, engine, **kwds)\u001b[0m\n\u001b[1;32m    762\u001b[0m             \u001b[0mself\u001b[0m\u001b[0;34m.\u001b[0m\u001b[0moptions\u001b[0m\u001b[0;34m[\u001b[0m\u001b[0;34m'has_index_names'\u001b[0m\u001b[0;34m]\u001b[0m \u001b[0;34m=\u001b[0m \u001b[0mkwds\u001b[0m\u001b[0;34m[\u001b[0m\u001b[0;34m'has_index_names'\u001b[0m\u001b[0;34m]\u001b[0m\u001b[0;34m\u001b[0m\u001b[0m\n\u001b[1;32m    763\u001b[0m \u001b[0;34m\u001b[0m\u001b[0m\n\u001b[0;32m--> 764\u001b[0;31m         \u001b[0mself\u001b[0m\u001b[0;34m.\u001b[0m\u001b[0m_make_engine\u001b[0m\u001b[0;34m(\u001b[0m\u001b[0mself\u001b[0m\u001b[0;34m.\u001b[0m\u001b[0mengine\u001b[0m\u001b[0;34m)\u001b[0m\u001b[0;34m\u001b[0m\u001b[0m\n\u001b[0m\u001b[1;32m    765\u001b[0m \u001b[0;34m\u001b[0m\u001b[0m\n\u001b[1;32m    766\u001b[0m     \u001b[0;32mdef\u001b[0m \u001b[0mclose\u001b[0m\u001b[0;34m(\u001b[0m\u001b[0mself\u001b[0m\u001b[0;34m)\u001b[0m\u001b[0;34m:\u001b[0m\u001b[0;34m\u001b[0m\u001b[0m\n",
      "\u001b[0;32m/usr/local/lib/python3.6/site-packages/pandas/io/parsers.py\u001b[0m in \u001b[0;36m_make_engine\u001b[0;34m(self, engine)\u001b[0m\n\u001b[1;32m    983\u001b[0m     \u001b[0;32mdef\u001b[0m \u001b[0m_make_engine\u001b[0m\u001b[0;34m(\u001b[0m\u001b[0mself\u001b[0m\u001b[0;34m,\u001b[0m \u001b[0mengine\u001b[0m\u001b[0;34m=\u001b[0m\u001b[0;34m'c'\u001b[0m\u001b[0;34m)\u001b[0m\u001b[0;34m:\u001b[0m\u001b[0;34m\u001b[0m\u001b[0m\n\u001b[1;32m    984\u001b[0m         \u001b[0;32mif\u001b[0m \u001b[0mengine\u001b[0m \u001b[0;34m==\u001b[0m \u001b[0;34m'c'\u001b[0m\u001b[0;34m:\u001b[0m\u001b[0;34m\u001b[0m\u001b[0m\n\u001b[0;32m--> 985\u001b[0;31m             \u001b[0mself\u001b[0m\u001b[0;34m.\u001b[0m\u001b[0m_engine\u001b[0m \u001b[0;34m=\u001b[0m \u001b[0mCParserWrapper\u001b[0m\u001b[0;34m(\u001b[0m\u001b[0mself\u001b[0m\u001b[0;34m.\u001b[0m\u001b[0mf\u001b[0m\u001b[0;34m,\u001b[0m \u001b[0;34m**\u001b[0m\u001b[0mself\u001b[0m\u001b[0;34m.\u001b[0m\u001b[0moptions\u001b[0m\u001b[0;34m)\u001b[0m\u001b[0;34m\u001b[0m\u001b[0m\n\u001b[0m\u001b[1;32m    986\u001b[0m         \u001b[0;32melse\u001b[0m\u001b[0;34m:\u001b[0m\u001b[0;34m\u001b[0m\u001b[0m\n\u001b[1;32m    987\u001b[0m             \u001b[0;32mif\u001b[0m \u001b[0mengine\u001b[0m \u001b[0;34m==\u001b[0m \u001b[0;34m'python'\u001b[0m\u001b[0;34m:\u001b[0m\u001b[0;34m\u001b[0m\u001b[0m\n",
      "\u001b[0;32m/usr/local/lib/python3.6/site-packages/pandas/io/parsers.py\u001b[0m in \u001b[0;36m__init__\u001b[0;34m(self, src, **kwds)\u001b[0m\n\u001b[1;32m   1603\u001b[0m         \u001b[0mkwds\u001b[0m\u001b[0;34m[\u001b[0m\u001b[0;34m'allow_leading_cols'\u001b[0m\u001b[0;34m]\u001b[0m \u001b[0;34m=\u001b[0m \u001b[0mself\u001b[0m\u001b[0;34m.\u001b[0m\u001b[0mindex_col\u001b[0m \u001b[0;32mis\u001b[0m \u001b[0;32mnot\u001b[0m \u001b[0;32mFalse\u001b[0m\u001b[0;34m\u001b[0m\u001b[0m\n\u001b[1;32m   1604\u001b[0m \u001b[0;34m\u001b[0m\u001b[0m\n\u001b[0;32m-> 1605\u001b[0;31m         \u001b[0mself\u001b[0m\u001b[0;34m.\u001b[0m\u001b[0m_reader\u001b[0m \u001b[0;34m=\u001b[0m \u001b[0mparsers\u001b[0m\u001b[0;34m.\u001b[0m\u001b[0mTextReader\u001b[0m\u001b[0;34m(\u001b[0m\u001b[0msrc\u001b[0m\u001b[0;34m,\u001b[0m \u001b[0;34m**\u001b[0m\u001b[0mkwds\u001b[0m\u001b[0;34m)\u001b[0m\u001b[0;34m\u001b[0m\u001b[0m\n\u001b[0m\u001b[1;32m   1606\u001b[0m \u001b[0;34m\u001b[0m\u001b[0m\n\u001b[1;32m   1607\u001b[0m         \u001b[0;31m# XXX\u001b[0m\u001b[0;34m\u001b[0m\u001b[0;34m\u001b[0m\u001b[0m\n",
      "\u001b[0;32mpandas/_libs/parsers.pyx\u001b[0m in \u001b[0;36mpandas._libs.parsers.TextReader.__cinit__ (pandas/_libs/parsers.c:4209)\u001b[0;34m()\u001b[0m\n",
      "\u001b[0;32mpandas/_libs/parsers.pyx\u001b[0m in \u001b[0;36mpandas._libs.parsers.TextReader._setup_parser_source (pandas/_libs/parsers.c:8873)\u001b[0;34m()\u001b[0m\n",
      "\u001b[0;31mFileNotFoundError\u001b[0m: File b'fit_t.tab' does not exist"
     ]
    }
   ],
   "source": [
    "allfit = pd.read_csv('fit_logratios_good.tab', sep = '\\t')\n",
    "all_bnums = allfit.sysName\n",
    "allfit = allfit.drop(['locusId', 'desc', 'comb', 'sysName'],1)\n",
    "all_t = pd.read_csv('fit_t.tab', sep = '\\t')\n",
    "all_t = all_t.drop(['locusId', 'desc', 'sysName'], 1)"
   ]
  },
  {
   "cell_type": "markdown",
   "metadata": {},
   "source": [
    "## Import Y-ome and non Y-ome"
   ]
  },
  {
   "cell_type": "code",
   "execution_count": null,
   "metadata": {
    "ExecuteTime": {
     "end_time": "2017-09-24T13:36:05.879564",
     "start_time": "2017-09-24T13:36:05.022888"
    }
   },
   "outputs": [],
   "source": [
    "session = Session()\n",
    "genes = to_df(\n",
    "    session.query(Gene.locus_id, KnowledgebaseGene.primary_name, Synonym.synonym, Knowledgebase.name, KnowledgebaseGene.annotation_quality)\n",
    "    .join(KnowledgebaseGene)\n",
    "    .join(Synonym, KnowledgebaseGene.id == Synonym.ref_id)\n",
    "    .join(Knowledgebase)\n",
    "    .filter(Knowledgebase.name == 'Y-ome')\n",
    "    , ['bnum', 'gene_name', 'syn', 'knowledgebase', 'ann_quality']\n",
    ") \n",
    "\n",
    "session.close()"
   ]
  },
  {
   "cell_type": "code",
   "execution_count": null,
   "metadata": {
    "ExecuteTime": {
     "end_time": "2017-09-24T13:36:05.945292",
     "start_time": "2017-09-24T13:36:05.880520"
    }
   },
   "outputs": [],
   "source": [
    "change = genes[genes.syn==genes.gene_name]\n",
    "genes.loc[change.index, 'syn'] = 'None'\n",
    "genes = genes.drop_duplicates()\n",
    "genes.index = range(0, len(genes))\n",
    "\n",
    "drop1 = genes[genes.syn.isin(genes.bnum)]\n",
    "drop2 = genes[genes.syn.isin(genes.gene_name)]\n",
    "drop = pd.concat([drop1, drop2], 0)\n",
    "\n",
    "genes = genes.drop(genes.index[[drop.index]])\n",
    "yome = genes[genes.ann_quality == 'low']\n",
    "well = genes[genes.ann_quality == 'high']\n",
    "\n",
    "yome_uniq = yome.drop(['syn'],1)\n",
    "yome_uniq = yome_uniq.drop_duplicates()\n",
    "well_uniq = well.drop(['syn'],1)\n",
    "well_uniq = well_uniq.drop_duplicates()\n",
    "genes_uniq = genes.drop(['syn'],1)\n",
    "genes_uniq = genes_uniq.drop_duplicates()\n",
    "\n",
    "yome.index = range(0,len(yome))\n",
    "well.index = range(0,len(well))\n",
    "genes.index = range(0,len(genes))"
   ]
  },
  {
   "cell_type": "code",
   "execution_count": null,
   "metadata": {
    "ExecuteTime": {
     "end_time": "2017-09-24T13:36:06.047858",
     "start_time": "2017-09-24T13:36:05.946176"
    }
   },
   "outputs": [],
   "source": [
    "len(yome), len(well), len(genes)"
   ]
  },
  {
   "cell_type": "code",
   "execution_count": null,
   "metadata": {
    "ExecuteTime": {
     "end_time": "2017-09-24T13:36:06.129230",
     "start_time": "2017-09-24T13:36:06.048664"
    }
   },
   "outputs": [],
   "source": [
    "len(yome_uniq), len(well_uniq), len(genes_uniq)"
   ]
  },
  {
   "cell_type": "markdown",
   "metadata": {},
   "source": [
    "# Focus on all Experiments"
   ]
  },
  {
   "cell_type": "markdown",
   "metadata": {},
   "source": [
    "## Distribution and Stats (Y-ome vs. non Y-ome)"
   ]
  },
  {
   "cell_type": "code",
   "execution_count": null,
   "metadata": {
    "ExecuteTime": {
     "end_time": "2017-09-24T13:36:06.212002",
     "start_time": "2017-09-24T13:36:06.130073"
    }
   },
   "outputs": [],
   "source": [
    "allfit['bnum'] = all_bnums\n",
    "all_t['bnum'] = all_bnums"
   ]
  },
  {
   "cell_type": "code",
   "execution_count": null,
   "metadata": {
    "ExecuteTime": {
     "end_time": "2017-09-24T13:36:06.500720",
     "start_time": "2017-09-24T13:36:06.212716"
    }
   },
   "outputs": [],
   "source": [
    "allfit_y1 = allfit[allfit.bnum.isin(yome.bnum)]\n",
    "allfit_y2 = allfit[allfit.bnum.isin(yome.syn)]\n",
    "allfit_y = pd.concat([allfit_y1, allfit_y2],0)\n",
    "allfit_y = allfit_y.drop_duplicates()\n",
    "\n",
    "allt_y1 = all_t[all_t.bnum.isin(yome.bnum)]\n",
    "allt_y2 = all_t[all_t.bnum.isin(yome.syn)]\n",
    "allt_y = pd.concat([allt_y1, allt_y2],0)\n",
    "allt_y = allt_y.drop_duplicates()\n",
    "\n",
    "allfit_w1 = allfit[allfit.bnum.isin(well.bnum)]\n",
    "allfit_w2 = allfit[allfit.bnum.isin(well.syn)]\n",
    "allfit_w = pd.concat([allfit_w1, allfit_w2],0)\n",
    "allfit_w = allfit_w.drop_duplicates()\n",
    "\n",
    "allt_w1 = all_t[all_t.bnum.isin(well.bnum)]\n",
    "allt_w2 = all_t[all_t.bnum.isin(well.syn)]\n",
    "allt_w = pd.concat([allt_w1, allt_w2],0)\n",
    "allt_w = allt_w.drop_duplicates()"
   ]
  },
  {
   "cell_type": "code",
   "execution_count": null,
   "metadata": {
    "ExecuteTime": {
     "end_time": "2017-09-24T13:36:06.537982",
     "start_time": "2017-09-24T13:36:06.501604"
    }
   },
   "outputs": [],
   "source": [
    "#Melt function takes all entries and makes them 1 column so that histograms can be created\n",
    "allfit_y_stack = pd.melt(allfit_y, id_vars = ['bnum'])\n",
    "allfit_w_stack = pd.melt(allfit_w, id_vars = ['bnum'])\n",
    "allt_y_stack = pd.melt(allt_y, id_vars = ['bnum'])\n",
    "allt_w_stack = pd.melt(allt_w, id_vars = ['bnum'])"
   ]
  },
  {
   "cell_type": "code",
   "execution_count": null,
   "metadata": {
    "ExecuteTime": {
     "end_time": "2017-09-24T13:36:07.746263",
     "start_time": "2017-09-24T13:36:06.538885"
    }
   },
   "outputs": [],
   "source": [
    "allfit_y_stack.value.plot.hist(title = 'Y-ome Log2Fitness Across All Conditions')"
   ]
  },
  {
   "cell_type": "code",
   "execution_count": null,
   "metadata": {
    "ExecuteTime": {
     "end_time": "2017-09-24T13:36:09.037837",
     "start_time": "2017-09-24T13:36:07.747145"
    }
   },
   "outputs": [],
   "source": [
    "allfit_w_stack.value.plot.hist(title = 'non Y-ome Log2Fitness Across All Conditions')"
   ]
  },
  {
   "cell_type": "code",
   "execution_count": null,
   "metadata": {
    "ExecuteTime": {
     "end_time": "2017-09-24T13:36:10.411247",
     "start_time": "2017-09-24T13:36:09.038682"
    }
   },
   "outputs": [],
   "source": [
    "allt_y_stack.value.plot.hist(title = 'Y-ome t-test like statistic Across All Conditions')"
   ]
  },
  {
   "cell_type": "code",
   "execution_count": null,
   "metadata": {
    "ExecuteTime": {
     "end_time": "2017-09-24T13:36:12.185393",
     "start_time": "2017-09-24T13:36:10.412223"
    }
   },
   "outputs": [],
   "source": [
    "allt_w_stack.value.plot.hist(title = 'non Y-ome t-test like statistic Across All Conditions')"
   ]
  },
  {
   "cell_type": "code",
   "execution_count": null,
   "metadata": {
    "ExecuteTime": {
     "end_time": "2017-09-24T13:36:12.207962",
     "start_time": "2017-09-24T13:36:12.186275"
    }
   },
   "outputs": [],
   "source": [
    "#definitions to make percentage effect calculations easier\n",
    "numy = len(allfit_y_stack)\n",
    "numw = len(allfit_w_stack)\n",
    "posy = len(allfit_y_stack[allfit_y_stack.value > 0])\n",
    "negy = len(allfit_y_stack[allfit_y_stack.value < 0])\n",
    "posw = len(allfit_w_stack[allfit_w_stack.value > 0])\n",
    "negw = len(allfit_w_stack[allfit_w_stack.value < 0])"
   ]
  },
  {
   "cell_type": "code",
   "execution_count": null,
   "metadata": {
    "ExecuteTime": {
     "end_time": "2017-09-24T13:36:12.292147",
     "start_time": "2017-09-24T13:36:12.208843"
    }
   },
   "outputs": [],
   "source": [
    "100*posy/numy, 100*negy/numy # % of Y-ome KOs that had pos fitness effect vs. % that had negative effects"
   ]
  },
  {
   "cell_type": "code",
   "execution_count": null,
   "metadata": {
    "ExecuteTime": {
     "end_time": "2017-09-24T13:36:12.378676",
     "start_time": "2017-09-24T13:36:12.292969"
    }
   },
   "outputs": [],
   "source": [
    "100*posw/numw, 100*negw/numw # % of non Y-ome KOs that had pos fitness effect vs. % that had negative effects"
   ]
  },
  {
   "cell_type": "markdown",
   "metadata": {},
   "source": [
    "# Focus on SpecPhes"
   ]
  },
  {
   "cell_type": "markdown",
   "metadata": {},
   "source": [
    "## Number of Genes w/ Specphes (Y-ome vs. non Y-ome)"
   ]
  },
  {
   "cell_type": "code",
   "execution_count": null,
   "metadata": {
    "ExecuteTime": {
     "end_time": "2017-09-24T13:36:12.478987",
     "start_time": "2017-09-24T13:36:12.379495"
    }
   },
   "outputs": [],
   "source": [
    "pheny2 = phen[phen.b_num.isin(yome.bnum)]\n",
    "pheny1 = phen[phen.b_num.isin(yome.syn)]\n",
    "pheny = pd.concat([pheny1, pheny2],0)\n",
    "pheny = pheny.drop_duplicates()\n",
    "\n",
    "phenw1 = phen[phen.b_num.isin(well.bnum)]\n",
    "phenw2 = phen[phen.b_num.isin(well.syn)]\n",
    "phenw = pd.concat([phenw1, phenw2],0)\n",
    "phenw = phenw.drop_duplicates()\n",
    "\n",
    "bnumsy = pd.DataFrame(pheny.b_num)           \n",
    "bnumsw = pd.DataFrame(phenw.b_num)\n",
    "unique_bnumsy = bnumsy.drop_duplicates()\n",
    "bnumsy.index = range(0,len(bnumsy))\n",
    "unique_bnumsy.index = range(0, len(unique_bnumsy))\n",
    "unique_bnumsw = bnumsw.drop_duplicates()\n",
    "bnumsw.index = range(0,len(bnumsw))\n",
    "unique_bnumsw.index = range(0, len(unique_bnumsw))"
   ]
  },
  {
   "cell_type": "code",
   "execution_count": null,
   "metadata": {
    "ExecuteTime": {
     "end_time": "2017-09-24T13:36:12.586053",
     "start_time": "2017-09-24T13:36:12.479870"
    }
   },
   "outputs": [],
   "source": [
    "len(unique_bnumsy), len(unique_bnumsw) # (# of yome genes that have specphes, # of well annotated genes that have specphes)"
   ]
  },
  {
   "cell_type": "markdown",
   "metadata": {},
   "source": [
    "## Distribution of specphes/Gene (Y-ome vs. non Y-ome)"
   ]
  },
  {
   "cell_type": "code",
   "execution_count": null,
   "metadata": {
    "ExecuteTime": {
     "end_time": "2017-09-24T13:36:12.670764",
     "start_time": "2017-09-24T13:36:12.586891"
    }
   },
   "outputs": [],
   "source": [
    "countsy = bnumsy.b_num.value_counts()\n",
    "countsw = bnumsw.b_num.value_counts()"
   ]
  },
  {
   "cell_type": "code",
   "execution_count": null,
   "metadata": {
    "ExecuteTime": {
     "end_time": "2017-09-24T13:36:12.851306",
     "start_time": "2017-09-24T13:36:12.671653"
    }
   },
   "outputs": [],
   "source": [
    "countsy.plot.hist(title = 'Specphes/Gene (Y-ome)')"
   ]
  },
  {
   "cell_type": "code",
   "execution_count": null,
   "metadata": {
    "ExecuteTime": {
     "end_time": "2017-09-24T13:36:12.961994",
     "start_time": "2017-09-24T13:36:12.852111"
    }
   },
   "outputs": [],
   "source": [
    "countsw.plot.hist(title = 'Specphes/Gene (Non Y-ome)')"
   ]
  },
  {
   "cell_type": "markdown",
   "metadata": {},
   "source": [
    "## Specphe Lrn Histograms and Distribution Stats (Y-ome vs. non Y-ome)"
   ]
  },
  {
   "cell_type": "code",
   "execution_count": null,
   "metadata": {
    "ExecuteTime": {
     "end_time": "2017-09-24T13:36:13.069541",
     "start_time": "2017-09-24T13:36:12.962801"
    }
   },
   "outputs": [],
   "source": [
    "pheny.lrn.plot.hist(title = 'Log2Fitness of Y-ome in Specphes')"
   ]
  },
  {
   "cell_type": "code",
   "execution_count": null,
   "metadata": {
    "ExecuteTime": {
     "end_time": "2017-09-24T13:36:13.185259",
     "start_time": "2017-09-24T13:36:13.070363"
    }
   },
   "outputs": [],
   "source": [
    "phenw.lrn.plot.hist(title = 'Log2Fitness of non Y-ome in Specphes')"
   ]
  },
  {
   "cell_type": "code",
   "execution_count": null,
   "metadata": {
    "ExecuteTime": {
     "end_time": "2017-09-24T13:36:13.189417",
     "start_time": "2017-09-24T13:36:13.186073"
    }
   },
   "outputs": [],
   "source": [
    "100*(len(pheny[pheny.lrn > 0])/ len(pheny)), 100*(len(pheny[pheny.lrn < 0])/len(pheny)) #(postive KO effect%, negative KO effect%) for Y-ome "
   ]
  },
  {
   "cell_type": "code",
   "execution_count": null,
   "metadata": {
    "ExecuteTime": {
     "end_time": "2017-09-24T13:36:13.287247",
     "start_time": "2017-09-24T13:36:13.190198"
    }
   },
   "outputs": [],
   "source": [
    "100*(len(phenw[phenw.lrn > 0])/ len(phenw)), 100*(len(phenw[phenw.lrn < 0])/len(phenw)) #(postive KO effect%, negative KO effect%) for Y-ome "
   ]
  },
  {
   "cell_type": "markdown",
   "metadata": {},
   "source": [
    "# Pulling up SpecPhes for Bnums"
   ]
  },
  {
   "cell_type": "code",
   "execution_count": null,
   "metadata": {
    "ExecuteTime": {
     "end_time": "2017-09-24T13:36:13.485325",
     "start_time": "2017-09-24T13:36:13.288068"
    }
   },
   "outputs": [],
   "source": [
    "#query = ['b1451']\n",
    "#goi = phen[phen.b_num==query] #use with query line up above to look up specific bnums\n",
    "\n",
    "goi = phen[phen.b_num.isin(unique_bnumsy.b_num)] #for groups of bnums (in this case for Y-ome genes with SpecPhes)\n",
    "goi"
   ]
  },
  {
   "cell_type": "code",
   "execution_count": null,
   "metadata": {
    "ExecuteTime": {
     "end_time": "2017-09-24T13:36:13.605007",
     "start_time": "2017-09-24T13:36:13.486206"
    }
   },
   "outputs": [],
   "source": [
    "coi = meta[meta.name.isin(goi.name)]\n",
    "coi[['name', 'Description', 'Condition_1', 'Condition_2','Media', 'Growth.Method', 'Temperature', 'pH', 'Timecourse.Sample']]"
   ]
  },
  {
   "cell_type": "code",
   "execution_count": null,
   "metadata": {
    "ExecuteTime": {
     "end_time": "2017-09-24T13:36:13.756749",
     "start_time": "2017-09-24T13:36:13.605783"
    }
   },
   "outputs": [],
   "source": [
    "coi"
   ]
  },
  {
   "cell_type": "markdown",
   "metadata": {},
   "source": [
    "## Determining which conditions are SpecPhes for the most Y-ome genes (as well as how many of them have positive vs. negative fitness effects)"
   ]
  },
  {
   "cell_type": "code",
   "execution_count": null,
   "metadata": {
    "ExecuteTime": {
     "end_time": "2017-09-24T13:36:13.838158",
     "start_time": "2017-09-24T13:36:13.757597"
    }
   },
   "outputs": [],
   "source": [
    "goi['Condition_1'].value_counts() #conditions and how many Y-ome genes have them as their specific phenotype"
   ]
  },
  {
   "cell_type": "code",
   "execution_count": null,
   "metadata": {
    "ExecuteTime": {
     "end_time": "2017-09-24T13:36:13.912442",
     "start_time": "2017-09-24T13:36:13.839115"
    },
    "collapsed": true
   },
   "outputs": [],
   "source": [
    "goi_pos = goi[goi.lrn > 0]\n",
    "goi_neg = goi[goi.lrn < 0]"
   ]
  },
  {
   "cell_type": "code",
   "execution_count": null,
   "metadata": {
    "ExecuteTime": {
     "end_time": "2017-09-24T13:36:13.996479",
     "start_time": "2017-09-24T13:36:13.913323"
    }
   },
   "outputs": [],
   "source": [
    "goi_pos['Condition_1'].value_counts() # Specphes for Y-ome KOs that have a positive effect on fitness"
   ]
  },
  {
   "cell_type": "code",
   "execution_count": null,
   "metadata": {
    "ExecuteTime": {
     "end_time": "2017-09-24T13:36:14.096476",
     "start_time": "2017-09-24T13:36:13.997298"
    }
   },
   "outputs": [],
   "source": [
    "goi_neg['Condition_1'].value_counts() # Specphes for Y-ome KOs that have a negative effect on fitness"
   ]
  },
  {
   "cell_type": "code",
   "execution_count": null,
   "metadata": {
    "ExecuteTime": {
     "end_time": "2017-09-24T13:36:14.199490",
     "start_time": "2017-09-24T13:36:14.097302"
    }
   },
   "outputs": [],
   "source": [
    "bac = goi_neg[goi_neg['Group'] == 'nitrogen source']"
   ]
  },
  {
   "cell_type": "code",
   "execution_count": null,
   "metadata": {
    "ExecuteTime": {
     "end_time": "2017-09-24T13:36:14.308515",
     "start_time": "2017-09-24T13:36:14.200366"
    }
   },
   "outputs": [],
   "source": [
    "bac.b_num.value_counts()"
   ]
  },
  {
   "cell_type": "code",
   "execution_count": null,
   "metadata": {
    "ExecuteTime": {
     "end_time": "2017-09-24T13:36:14.389724",
     "start_time": "2017-09-24T13:36:14.309256"
    }
   },
   "outputs": [],
   "source": [
    "bac[bac.b_num=='b4256']"
   ]
  }
 ],
 "metadata": {
  "kernelspec": {
   "display_name": "Python 3",
   "language": "python",
   "name": "python3"
  },
  "language_info": {
   "codemirror_mode": {
    "name": "ipython",
    "version": 3
   },
   "file_extension": ".py",
   "mimetype": "text/x-python",
   "name": "python",
   "nbconvert_exporter": "python",
   "pygments_lexer": "ipython3",
   "version": "3.7.0"
  },
  "toc": {
   "colors": {
    "hover_highlight": "#DAA520",
    "running_highlight": "#FF0000",
    "selected_highlight": "#FFD700"
   },
   "moveMenuLeft": true,
   "nav_menu": {
    "height": "262px",
    "width": "252px"
   },
   "navigate_menu": true,
   "number_sections": true,
   "sideBar": true,
   "threshold": 4,
   "toc_cell": false,
   "toc_section_display": "block",
   "toc_window_display": false
  }
 },
 "nbformat": 4,
 "nbformat_minor": 2
}
