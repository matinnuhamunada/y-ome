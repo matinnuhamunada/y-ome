{
 "cells": [
  {
   "cell_type": "code",
   "execution_count": 39,
   "metadata": {},
   "outputs": [],
   "source": [
    "import json\n",
    "import pandas as pd\n",
    "import numpy as np\n",
    "from yome import Session\n",
    "from yome.models import *\n",
    "from yome.util import to_df, report, scale_color, mpl_setup\n",
    "from yome.constants import (\n",
    "    colors_by_number as colors,\n",
    "    hatches_by_number as hatches,\n",
    ")\n",
    "import re\n",
    "from sqlalchemy.orm import aliased\n",
    "import itertools as it\n",
    "import seaborn as sns"
   ]
  },
  {
   "cell_type": "code",
   "execution_count": 40,
   "metadata": {},
   "outputs": [],
   "source": [
    "pd.set_option('display.max_colwidth', -1)"
   ]
  },
  {
   "cell_type": "code",
   "execution_count": 41,
   "metadata": {},
   "outputs": [
    {
     "name": "stdout",
     "output_type": "stream",
     "text": [
      "Populating the interactive namespace from numpy and matplotlib\n"
     ]
    }
   ],
   "source": [
    "%mpl_setup"
   ]
  },
  {
   "cell_type": "code",
   "execution_count": 42,
   "metadata": {},
   "outputs": [],
   "source": [
    "sns.set_style('ticks')"
   ]
  },
  {
   "cell_type": "code",
   "execution_count": 43,
   "metadata": {},
   "outputs": [],
   "source": [
    "session = Session()"
   ]
  },
  {
   "cell_type": "markdown",
   "metadata": {},
   "source": [
    "# Genes without b-number"
   ]
  },
  {
   "cell_type": "code",
   "execution_count": 44,
   "metadata": {},
   "outputs": [],
   "source": [
    "# Genes b4309 pseudo in EcoGene\n",
    "no_b_number = to_df(\n",
    "    session.query(KnowledgebaseGene.primary_name,\n",
    "                  KnowledgebaseGene.annotation_quality,\n",
    "                  Knowledgebase.name.label('kb_name'))\n",
    "    .join(Knowledgebase)\n",
    "    .filter(KnowledgebaseGene.gene_id == None)\n",
    ")"
   ]
  },
  {
   "cell_type": "code",
   "execution_count": 45,
   "metadata": {},
   "outputs": [
    {
     "data": {
      "text/html": [
       "<div>\n",
       "<style scoped>\n",
       "    .dataframe tbody tr th:only-of-type {\n",
       "        vertical-align: middle;\n",
       "    }\n",
       "\n",
       "    .dataframe tbody tr th {\n",
       "        vertical-align: top;\n",
       "    }\n",
       "\n",
       "    .dataframe thead th {\n",
       "        text-align: right;\n",
       "    }\n",
       "</style>\n",
       "<table border=\"1\" class=\"dataframe\">\n",
       "  <thead>\n",
       "    <tr style=\"text-align: right;\">\n",
       "      <th></th>\n",
       "      <th>primary_name</th>\n",
       "      <th>annotation_quality</th>\n",
       "    </tr>\n",
       "    <tr>\n",
       "      <th>kb_name</th>\n",
       "      <th></th>\n",
       "      <th></th>\n",
       "    </tr>\n",
       "  </thead>\n",
       "  <tbody>\n",
       "    <tr>\n",
       "      <th>EcoCyc</th>\n",
       "      <td>61</td>\n",
       "      <td>61</td>\n",
       "    </tr>\n",
       "    <tr>\n",
       "      <th>UniProt</th>\n",
       "      <td>1</td>\n",
       "      <td>1</td>\n",
       "    </tr>\n",
       "  </tbody>\n",
       "</table>\n",
       "</div>"
      ],
      "text/plain": [
       "         primary_name  annotation_quality\n",
       "kb_name                                  \n",
       "EcoCyc   61            61                \n",
       "UniProt  1             1                 "
      ]
     },
     "execution_count": 45,
     "metadata": {},
     "output_type": "execute_result"
    }
   ],
   "source": [
    "no_b_number.groupby('kb_name').agg('count')"
   ]
  },
  {
   "cell_type": "markdown",
   "metadata": {},
   "source": [
    "# Find locus tags with multiple genes"
   ]
  },
  {
   "cell_type": "code",
   "execution_count": 46,
   "metadata": {},
   "outputs": [],
   "source": [
    "KnowledgebaseGene2 = aliased(KnowledgebaseGene)"
   ]
  },
  {
   "cell_type": "code",
   "execution_count": 47,
   "metadata": {},
   "outputs": [],
   "source": [
    "duplicates = to_df(\n",
    "    session.query(Gene.locus_id,\n",
    "                  KnowledgebaseGene.primary_name,\n",
    "                  KnowledgebaseGene2.primary_name.label('primary_name2'),\n",
    "                  Knowledgebase.name)\n",
    "    .join(KnowledgebaseGene, KnowledgebaseGene.gene_id == Gene.id)\n",
    "    .join(KnowledgebaseGene2, KnowledgebaseGene2.gene_id == Gene.id)\n",
    "    .join(Knowledgebase, KnowledgebaseGene.knowledgebase_id == Knowledgebase.id)\n",
    "    .filter(KnowledgebaseGene2.knowledgebase_id == Knowledgebase.id)\n",
    "    .filter(KnowledgebaseGene.id != KnowledgebaseGene2.id)\n",
    ")"
   ]
  },
  {
   "cell_type": "code",
   "execution_count": 48,
   "metadata": {},
   "outputs": [
    {
     "data": {
      "text/html": [
       "<div>\n",
       "<style scoped>\n",
       "    .dataframe tbody tr th:only-of-type {\n",
       "        vertical-align: middle;\n",
       "    }\n",
       "\n",
       "    .dataframe tbody tr th {\n",
       "        vertical-align: top;\n",
       "    }\n",
       "\n",
       "    .dataframe thead th {\n",
       "        text-align: right;\n",
       "    }\n",
       "</style>\n",
       "<table border=\"1\" class=\"dataframe\">\n",
       "  <thead>\n",
       "    <tr style=\"text-align: right;\">\n",
       "      <th></th>\n",
       "      <th>locus_id</th>\n",
       "      <th>primary_name</th>\n",
       "      <th>primary_name2</th>\n",
       "      <th>name</th>\n",
       "    </tr>\n",
       "  </thead>\n",
       "  <tbody>\n",
       "    <tr>\n",
       "      <th>0</th>\n",
       "      <td>b4581</td>\n",
       "      <td>ybeM</td>\n",
       "      <td>ybeH</td>\n",
       "      <td>UniProt</td>\n",
       "    </tr>\n",
       "    <tr>\n",
       "      <th>1</th>\n",
       "      <td>b4581</td>\n",
       "      <td>ybeH</td>\n",
       "      <td>ybeM</td>\n",
       "      <td>UniProt</td>\n",
       "    </tr>\n",
       "  </tbody>\n",
       "</table>\n",
       "</div>"
      ],
      "text/plain": [
       "  locus_id primary_name primary_name2     name\n",
       "0  b4581    ybeM         ybeH          UniProt\n",
       "1  b4581    ybeH         ybeM          UniProt"
      ]
     },
     "execution_count": 48,
     "metadata": {},
     "output_type": "execute_result"
    }
   ],
   "source": [
    "duplicates"
   ]
  },
  {
   "cell_type": "markdown",
   "metadata": {},
   "source": [
    "# Kbase comparison plot\n",
    "NOTE: 55 EcoCyc & 1 UniProt genes without a locus tag and 2 EcoCyc and 1 Uniprot genes with duplicated locus tags are ignored in this plot"
   ]
  },
  {
   "cell_type": "code",
   "execution_count": 49,
   "metadata": {},
   "outputs": [],
   "source": [
    "kbases = to_df(\n",
    "    session.query(Gene.locus_id,\n",
    "                  KnowledgebaseGene.primary_name,\n",
    "                  KnowledgebaseGene.annotation_quality,\n",
    "                  Knowledgebase.name.label('knowledgebase_name'))\n",
    "    .join(KnowledgebaseGene)\n",
    "    .join(Knowledgebase)\n",
    ")"
   ]
  },
  {
   "cell_type": "code",
   "execution_count": 50,
   "metadata": {},
   "outputs": [],
   "source": [
    "# remove duplicate genes\n",
    "kbases_unstacked = kbases.set_index(['locus_id', 'knowledgebase_name'])\n",
    "kbases_unstacked = kbases_unstacked[~kbases_unstacked.index.duplicated(keep='first')]\n",
    "kbases_unstacked = kbases_unstacked.drop('primary_name', axis=1).unstack()\n",
    "kbases_unstacked.columns = kbases_unstacked.columns.droplevel(0)"
   ]
  },
  {
   "cell_type": "code",
   "execution_count": 51,
   "metadata": {},
   "outputs": [
    {
     "data": {
      "text/plain": [
       "high        2802\n",
       "low         1601\n",
       "excluded    220 \n",
       "Name: y-ome, dtype: int64"
      ]
     },
     "execution_count": 51,
     "metadata": {},
     "output_type": "execute_result"
    }
   ],
   "source": [
    "# y-ome counts\n",
    "kbases_unstacked['y-ome'].value_counts()"
   ]
  },
  {
   "cell_type": "code",
   "execution_count": 52,
   "metadata": {},
   "outputs": [],
   "source": [
    "# get list of genes starting with y in EcoCyc\n",
    "# high quality EcoCyc evidence should override everything, e.g. b0089 / ftsW "
   ]
  },
  {
   "cell_type": "code",
   "execution_count": 53,
   "metadata": {},
   "outputs": [],
   "source": [
    "ecocyc_names = {x[0]: x[1] for x in (\n",
    "    session.query(Gene.locus_id,\n",
    "                  KnowledgebaseGene.primary_name)\n",
    "    .join(KnowledgebaseGene)\n",
    "    .join(Knowledgebase)\n",
    "    .filter(Knowledgebase.name == 'EcoCyc')\n",
    ").all()}"
   ]
  },
  {
   "cell_type": "code",
   "execution_count": 54,
   "metadata": {},
   "outputs": [],
   "source": [
    "def starts_y(row):\n",
    "    primary_name = ecocyc_names.get(row.name, None)\n",
    "    return 'low' if primary_name and primary_name.startswith('y') \\\n",
    "        else 'high' if primary_name \\\n",
    "        else None"
   ]
  },
  {
   "cell_type": "code",
   "execution_count": 55,
   "metadata": {},
   "outputs": [],
   "source": [
    "kbases_unstacked['Starts with \"y\"'] = kbases_unstacked.apply(starts_y, axis=1)"
   ]
  },
  {
   "cell_type": "code",
   "execution_count": 56,
   "metadata": {},
   "outputs": [],
   "source": [
    "levels = {\n",
    "    None: -1,\n",
    "    'excluded': 0,\n",
    "    'tbd': 1,\n",
    "    'low': 2,\n",
    "    'high': 3,\n",
    "}"
   ]
  },
  {
   "cell_type": "code",
   "execution_count": 57,
   "metadata": {},
   "outputs": [],
   "source": [
    "kbases_plot = kbases_unstacked.applymap(lambda x: levels[x])"
   ]
  },
  {
   "cell_type": "code",
   "execution_count": 58,
   "metadata": {},
   "outputs": [],
   "source": [
    "def make_bars(df_all, labels):\n",
    "    df = df_all[labels].sort_values(by=labels)\n",
    "    # create bars based on consecutive colors\n",
    "    last_value = {kbase: None for kbase in labels}\n",
    "    bars = {kbase: [] for kbase in labels}\n",
    "    for locus_tag, row in df.iterrows():\n",
    "        for kbase, value in row.iteritems():\n",
    "            if len(bars[kbase]) == 0 or bars[kbase][-1]['value'] != value:\n",
    "                bars[kbase].append({'value': value, 'height': 1})\n",
    "                last_value[kbase] = value\n",
    "            else:\n",
    "                bars[kbase][-1]['height'] += 1\n",
    "    return [bars[x] for x in labels]"
   ]
  },
  {
   "cell_type": "code",
   "execution_count": 87,
   "metadata": {},
   "outputs": [],
   "source": [
    "def plot_bars(bars, labels, figsize=(13, 11), text=False, text_show_cutoff=None):\n",
    "    fig, ax = plt.subplots(figsize=figsize)\n",
    "    last_heights = [0 for _ in labels]\n",
    "    for bar_list in it.zip_longest(*bars):\n",
    "        left = [x + 0.1 for x in range(len(labels))]\n",
    "        height = [x['height'] if x is not None else 0 for x in bar_list]\n",
    "        bottom = last_heights\n",
    "        last_heights = [x + y for x, y in zip(height, last_heights)]\n",
    "        color = [colors[x['value']] if x is not None else 'k' for x in bar_list]\n",
    "        hatch = [hatches[x['value']] if x is not None else '' for x in bar_list]\n",
    "        for l, h, b, c, ha in zip(left, height, bottom, color, hatch):\n",
    "            ax.bar(l, h, bottom=b, color=c, hatch=ha, edgecolor=scale_color(c, 1.1))\n",
    "        if text:\n",
    "            for l, h, b in zip(left, height, bottom):\n",
    "                if text_show_cutoff is not None and h < text_show_cutoff:\n",
    "                    continue\n",
    "                if h > 0 and h < 50:\n",
    "                    y = h / 2 + b\n",
    "                    if text_y_shift:\n",
    "                        y = text_y_shift(h, y)\n",
    "                    ax.annotate(h, xy=(l + 0.15, y), xytext=(l + 0.45, y + 120),\n",
    "                                arrowprops=dict(facecolor='black', width=1, headwidth=7),\n",
    "                                verticalalignment='center',\n",
    "                                color=(0.2,0.2,0.2))\n",
    "                elif h > 50:\n",
    "                    y = h + b - (110 if h > 120 else 80 if h > 100 else 30)\n",
    "                    ax.text(l, y, str(h), horizontalalignment='center', \n",
    "                            color=(0.2,0.2,0.2))\n",
    "    ax.set_xlabel('Knowledgebase')\n",
    "    ax.set_ylabel('Gene')\n",
    "    ax.xaxis.set_ticks([x + 0.1 for x in range(len(labels))])\n",
    "    ax.xaxis.set_ticklabels(labels)\n",
    "    \n",
    "    # Hide the right and top spines\n",
    "    ax.spines['right'].set_visible(False)\n",
    "    ax.spines['top'].set_visible(False)\n",
    "\n",
    "    # Only show ticks on the left and bottom spines\n",
    "    ax.yaxis.set_ticks_position('left')\n",
    "    ax.xaxis.set_ticks_position('bottom')\n",
    "    \n",
    "    return fig, ax"
   ]
  },
  {
   "cell_type": "code",
   "execution_count": 60,
   "metadata": {},
   "outputs": [
    {
     "data": {
      "image/png": "[encoded data removed]",
      "text/plain": [
       "<Figure size 936x792 with 1 Axes>"
      ]
     },
     "metadata": {},
     "output_type": "display_data"
    }
   ],
   "source": [
    "labels = ['EcoCyc', 'EcoGene', 'UniProt', 'RegulonDB', 'Manual', 'y-ome']\n",
    "kbase_bars = make_bars(kbases_plot, labels)\n",
    "fig, _ = plot_bars(kbase_bars, labels)\n",
    "fig.savefig('/Users/zaking/lab/y-ome/figs/kbase-bars.pdf')\n",
    "fig.savefig('/Users/zaking/lab/y-ome/figs/kbase-bars.png')"
   ]
  },
  {
   "cell_type": "code",
   "execution_count": 61,
   "metadata": {},
   "outputs": [
    {
     "data": {
      "image/png": "[encoded data removed]",
      "text/plain": [
       "<Figure size 252x792 with 1 Axes>"
      ]
     },
     "metadata": {},
     "output_type": "display_data"
    }
   ],
   "source": [
    "labels = ['y-ome', 'iJL1678b']\n",
    "bars = make_bars(kbases_plot, labels)\n",
    "fig, _ = plot_bars(bars, labels, figsize=(3.5, 11), text=True)\n",
    "fig.savefig('/Users/zaking/lab/y-ome/figs/me-model-bars.pdf')\n",
    "fig.savefig('/Users/zaking/lab/y-ome/figs/me-model-bars.png')"
   ]
  },
  {
   "cell_type": "code",
   "execution_count": 62,
   "metadata": {},
   "outputs": [
    {
     "data": {
      "image/png": "[encoded data removed]",
      "text/plain": [
       "<Figure size 252x792 with 1 Axes>"
      ]
     },
     "metadata": {},
     "output_type": "display_data"
    }
   ],
   "source": [
    "labels = ['y-ome', 'Starts with \"y\"']\n",
    "bars = make_bars(kbases_plot, labels)\n",
    "fig, _ = plot_bars(bars, labels, figsize=(3.5, 11), text=True)\n",
    "fig.savefig('/Users/zaking/lab/y-ome/figs/starts-y-bars.pdf')\n",
    "fig.savefig('/Users/zaking/lab/y-ome/figs/starts-y-bars.png')"
   ]
  },
  {
   "cell_type": "markdown",
   "metadata": {},
   "source": [
    "## Assertions\n",
    "The literature points to a particular answer for these genes"
   ]
  },
  {
   "cell_type": "code",
   "execution_count": 63,
   "metadata": {},
   "outputs": [
    {
     "name": "stdout",
     "output_type": "stream",
     "text": [
      "Empty DataFrame\n",
      "Columns: [EcoCyc, EcoGene, Manual, RefSeq, RegulonDB, UniProt, iJL1678b, y-ome, Starts with \"y\"]\n",
      "Index: []\n"
     ]
    }
   ],
   "source": [
    "assertions = pd.read_table('../sources/manual/manual.tsv', sep='\\t', index_col='locus_tag')\n",
    "\n",
    "# these differences check out\n",
    "# ok = ['b0268', 'b1695', 'b2844', 'b0240', 'b4453']\n",
    "\n",
    "# Check for any incorrect assertions\n",
    "def check_for_row(row):\n",
    "    return any(row.name == locus_tag and row['y-ome'] != val and row['y-ome'] != 'tbd' and val != 'read' and locus_tag not in ok\n",
    "               for locus_tag, val in assertions.annotation_quality.items())\n",
    "res = kbases_unstacked[kbases_unstacked.apply(check_for_row, axis=1)]\n",
    "print(res)\n",
    "assert(len(res) == 0)"
   ]
  },
  {
   "cell_type": "code",
   "execution_count": 64,
   "metadata": {},
   "outputs": [],
   "source": [
    "tbd = kbases_unstacked[(kbases_unstacked['y-ome'] == 'tbd') & ~kbases_unstacked.index.isin(assertions.index)]\n",
    "# tbd_locus_tag = tbd.index[1]\n",
    "# print(f'{len(tbd)} genes; next locus: {tbd_locus_tag}')\n",
    "\n",
    "# kbases_unstacked[kbases_unstacked.index == tbd_locus_tag]"
   ]
  },
  {
   "cell_type": "code",
   "execution_count": 65,
   "metadata": {},
   "outputs": [
    {
     "data": {
      "text/html": [
       "<div>\n",
       "<style scoped>\n",
       "    .dataframe tbody tr th:only-of-type {\n",
       "        vertical-align: middle;\n",
       "    }\n",
       "\n",
       "    .dataframe tbody tr th {\n",
       "        vertical-align: top;\n",
       "    }\n",
       "\n",
       "    .dataframe thead th {\n",
       "        text-align: right;\n",
       "    }\n",
       "</style>\n",
       "<table border=\"1\" class=\"dataframe\">\n",
       "  <thead>\n",
       "    <tr style=\"text-align: right;\">\n",
       "      <th>knowledgebase_name</th>\n",
       "      <th>EcoCyc</th>\n",
       "      <th>EcoGene</th>\n",
       "      <th>Manual</th>\n",
       "      <th>RefSeq</th>\n",
       "      <th>RegulonDB</th>\n",
       "      <th>UniProt</th>\n",
       "      <th>iJL1678b</th>\n",
       "      <th>y-ome</th>\n",
       "      <th>Starts with \"y\"</th>\n",
       "    </tr>\n",
       "    <tr>\n",
       "      <th>locus_id</th>\n",
       "      <th></th>\n",
       "      <th></th>\n",
       "      <th></th>\n",
       "      <th></th>\n",
       "      <th></th>\n",
       "      <th></th>\n",
       "      <th></th>\n",
       "      <th></th>\n",
       "      <th></th>\n",
       "    </tr>\n",
       "  </thead>\n",
       "  <tbody>\n",
       "  </tbody>\n",
       "</table>\n",
       "</div>"
      ],
      "text/plain": [
       "Empty DataFrame\n",
       "Columns: [EcoCyc, EcoGene, Manual, RefSeq, RegulonDB, UniProt, iJL1678b, y-ome, Starts with \"y\"]\n",
       "Index: []"
      ]
     },
     "execution_count": 65,
     "metadata": {},
     "output_type": "execute_result"
    }
   ],
   "source": [
    "tbd"
   ]
  },
  {
   "cell_type": "markdown",
   "metadata": {},
   "source": [
    "# check on evidence type"
   ]
  },
  {
   "cell_type": "code",
   "execution_count": 66,
   "metadata": {},
   "outputs": [],
   "source": [
    "ev = to_df(\n",
    "    session.query(\n",
    "        Gene.locus_id,\n",
    "        KnowledgebaseGene.primary_name,\n",
    "        KnowledgebaseFeature.feature,\n",
    "    )\n",
    "    .join(KnowledgebaseGene)\n",
    "    .join(Knowledgebase)\n",
    "    .join(KnowledgebaseFeature)\n",
    "    .filter(Knowledgebase.name == 'EcoCyc')\n",
    "    .filter(KnowledgebaseFeature.feature_type == 'description')\n",
    "    .filter(KnowledgebaseFeature.feature.ilike('%domain-containing protein%'))\n",
    ")"
   ]
  },
  {
   "cell_type": "code",
   "execution_count": 67,
   "metadata": {
    "scrolled": false
   },
   "outputs": [
    {
     "data": {
      "text/html": [
       "<div>\n",
       "<style scoped>\n",
       "    .dataframe tbody tr th:only-of-type {\n",
       "        vertical-align: middle;\n",
       "    }\n",
       "\n",
       "    .dataframe tbody tr th {\n",
       "        vertical-align: top;\n",
       "    }\n",
       "\n",
       "    .dataframe thead th {\n",
       "        text-align: right;\n",
       "    }\n",
       "</style>\n",
       "<table border=\"1\" class=\"dataframe\">\n",
       "  <thead>\n",
       "    <tr style=\"text-align: right;\">\n",
       "      <th></th>\n",
       "      <th>locus_id</th>\n",
       "      <th>primary_name</th>\n",
       "      <th>feature</th>\n",
       "      <th>EcoCyc</th>\n",
       "      <th>EcoGene</th>\n",
       "      <th>Manual</th>\n",
       "      <th>RefSeq</th>\n",
       "      <th>RegulonDB</th>\n",
       "      <th>UniProt</th>\n",
       "      <th>iJL1678b</th>\n",
       "      <th>y-ome</th>\n",
       "      <th>Starts with \"y\"</th>\n",
       "    </tr>\n",
       "  </thead>\n",
       "  <tbody>\n",
       "  </tbody>\n",
       "</table>\n",
       "</div>"
      ],
      "text/plain": [
       "Empty DataFrame\n",
       "Columns: [locus_id, primary_name, feature, EcoCyc, EcoGene, Manual, RefSeq, RegulonDB, UniProt, iJL1678b, y-ome, Starts with \"y\"]\n",
       "Index: []"
      ]
     },
     "execution_count": 67,
     "metadata": {},
     "output_type": "execute_result"
    }
   ],
   "source": [
    "evm = ev.merge(kbases_unstacked, left_on='locus_id', right_index=True) #['y-ome'].value_counts()\n",
    "evm[evm['y-ome'] == 'tbd']"
   ]
  },
  {
   "cell_type": "markdown",
   "metadata": {},
   "source": [
    "# Compare to Hu et al. 2009"
   ]
  },
  {
   "cell_type": "code",
   "execution_count": 68,
   "metadata": {},
   "outputs": [
    {
     "data": {
      "text/plain": [
       "high    2794\n",
       "low     1431\n",
       "Name: hu2009_category, dtype: int64"
      ]
     },
     "execution_count": 68,
     "metadata": {},
     "output_type": "execute_result"
    }
   ],
   "source": [
    "columns = {\n",
    "#     'Gene': 'primary_name',\n",
    "    'Bnumber': 'locus_tag',\n",
    "    'Category': 'hu2009_category',\n",
    "}\n",
    "\n",
    "# Load data from Table S1\n",
    "hu = pd.read_table('../sources/hu2009/table-s1-orphans.tsv.gz', compression='gzip').rename(columns=columns)\n",
    "hu = hu.loc[:, hu.columns.isin(columns.values())]\n",
    "hu.hu2009_category = hu.hu2009_category.map(lambda x: 'high' if x == 'annotated' else 'low')\n",
    "\n",
    "hu.hu2009_category.value_counts()"
   ]
  },
  {
   "cell_type": "code",
   "execution_count": 84,
   "metadata": {},
   "outputs": [],
   "source": [
    "hu_combined = (kbases_unstacked.loc[:, ['y-ome', 'Starts with \"y\"']]\n",
    "               .merge(hu, left_index=True, right_on='locus_tag', how='outer')\n",
    "               .fillna('excluded')\n",
    "               .set_index('locus_tag')\n",
    "               .rename(columns={'hu2009_category': 'Hu et al. 2009'})\n",
    "               .applymap(lambda x: levels[x]))"
   ]
  },
  {
   "cell_type": "code",
   "execution_count": 85,
   "metadata": {},
   "outputs": [
    {
     "data": {
      "text/html": [
       "<div>\n",
       "<style scoped>\n",
       "    .dataframe tbody tr th:only-of-type {\n",
       "        vertical-align: middle;\n",
       "    }\n",
       "\n",
       "    .dataframe tbody tr th {\n",
       "        vertical-align: top;\n",
       "    }\n",
       "\n",
       "    .dataframe thead th {\n",
       "        text-align: right;\n",
       "    }\n",
       "</style>\n",
       "<table border=\"1\" class=\"dataframe\">\n",
       "  <thead>\n",
       "    <tr style=\"text-align: right;\">\n",
       "      <th></th>\n",
       "      <th>y-ome</th>\n",
       "      <th>Starts with \"y\"</th>\n",
       "      <th>Hu et al. 2009</th>\n",
       "    </tr>\n",
       "    <tr>\n",
       "      <th>locus_tag</th>\n",
       "      <th></th>\n",
       "      <th></th>\n",
       "      <th></th>\n",
       "    </tr>\n",
       "  </thead>\n",
       "  <tbody>\n",
       "    <tr>\n",
       "      <th>b0001</th>\n",
       "      <td>3</td>\n",
       "      <td>3</td>\n",
       "      <td>3</td>\n",
       "    </tr>\n",
       "    <tr>\n",
       "      <th>b0002</th>\n",
       "      <td>3</td>\n",
       "      <td>3</td>\n",
       "      <td>3</td>\n",
       "    </tr>\n",
       "    <tr>\n",
       "      <th>b0003</th>\n",
       "      <td>3</td>\n",
       "      <td>3</td>\n",
       "      <td>3</td>\n",
       "    </tr>\n",
       "    <tr>\n",
       "      <th>b0004</th>\n",
       "      <td>3</td>\n",
       "      <td>3</td>\n",
       "      <td>3</td>\n",
       "    </tr>\n",
       "    <tr>\n",
       "      <th>b0005</th>\n",
       "      <td>2</td>\n",
       "      <td>2</td>\n",
       "      <td>2</td>\n",
       "    </tr>\n",
       "  </tbody>\n",
       "</table>\n",
       "</div>"
      ],
      "text/plain": [
       "           y-ome  Starts with \"y\"  Hu et al. 2009\n",
       "locus_tag                                        \n",
       "b0001      3      3                3             \n",
       "b0002      3      3                3             \n",
       "b0003      3      3                3             \n",
       "b0004      3      3                3             \n",
       "b0005      2      2                2             "
      ]
     },
     "execution_count": 85,
     "metadata": {},
     "output_type": "execute_result"
    }
   ],
   "source": [
    "hu_combined.head()"
   ]
  },
  {
   "cell_type": "code",
   "execution_count": 92,
   "metadata": {},
   "outputs": [
    {
     "data": {
      "image/png": "[encoded data removed]",
      "text/plain": [
       "<Figure size 432x792 with 1 Axes>"
      ]
     },
     "metadata": {},
     "output_type": "display_data"
    }
   ],
   "source": [
    "labels = ['y-ome', 'Hu et al. 2009', 'Starts with \"y\"']\n",
    "bars = make_bars(hu_combined, labels)\n",
    "fig, _ = plot_bars(bars, labels, figsize=(6, 11), text=True, text_show_cutoff=100)\n",
    "fig.savefig('/Users/zaking/lab/y-ome/figs/hu2009-comparison.pdf')\n",
    "fig.savefig('/Users/zaking/lab/y-ome/figs/hu2009-comparison.png')"
   ]
  },
  {
   "cell_type": "code",
   "execution_count": null,
   "metadata": {},
   "outputs": [],
   "source": []
  }
 ],
 "metadata": {
  "kernelspec": {
   "display_name": "Python 3",
   "language": "python",
   "name": "python3"
  },
  "language_info": {
   "codemirror_mode": {
    "name": "ipython",
    "version": 3
   },
   "file_extension": ".py",
   "mimetype": "text/x-python",
   "name": "python",
   "nbconvert_exporter": "python",
   "pygments_lexer": "ipython3",
   "version": "3.6.5"
  }
 },
 "nbformat": 4,
 "nbformat_minor": 2
}
