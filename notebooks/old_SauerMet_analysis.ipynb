{
 "cells": [
  {
   "cell_type": "markdown",
   "metadata": {},
   "source": [
    "### Import Necessary Packages"
   ]
  },
  {
   "cell_type": "code",
   "execution_count": 1,
   "metadata": {
    "collapsed": true
   },
   "outputs": [],
   "source": [
    "import pandas as pd\n",
    "import numpy as np\n",
    "import matplotlib.pyplot as plt\n",
    "%matplotlib inline\n",
    "\n",
    "from yome import Session\n",
    "from yome.models import *\n",
    "from yome.util import to_df\n",
    "import pandas as pd\n",
    "from os.path import dirname, realpath, join\n",
    "import glob\n",
    "import logging\n",
    "\n",
    "pd.set_option('display.max_rows', None)\n",
    "pd.set_option('display.max_columns', None)"
   ]
  },
  {
   "cell_type": "markdown",
   "metadata": {},
   "source": [
    "# Query for Specific Genes and bnumbers in SauerMet"
   ]
  },
  {
   "cell_type": "markdown",
   "metadata": {},
   "source": [
    "## Import and format Sauermet Data"
   ]
  },
  {
   "cell_type": "code",
   "execution_count": 2,
   "metadata": {
    "collapsed": true
   },
   "outputs": [],
   "source": [
    "sauermet1 = pd.read_csv('sauermet_known.csv', sep = '\\t')\n",
    "sauermet2 = pd.read_csv('sauermet_unknown.csv', sep = '\\t')\n",
    "sauermet = pd.concat([sauermet1, sauermet2], 0)\n",
    "#sauermet = sauermet.drop_duplicates()\n",
    "\n",
    "#sauermet_old = pd.read_csv('SauerMet.csv', sep = '\\t') #This is the dataset that Uwe Sauer personally sent to us pre-publication\n",
    "\n",
    "sauermet = sauermet[sauermet.annotation.notnull()] #gets rid of all genes that act upon indistinguishable metabolites\n",
    "sauermet.rename(columns= lambda x: x.replace(' ', '_'), inplace = True)\n",
    "sauermet.rename(columns = lambda x: x.replace('.', '_'), inplace = True)\n",
    "sauermet.rename(columns = lambda x: x.replace('-', '_'), inplace = True)\n",
    "sauermet.rename(columns = {'locus_tag': 'bnum'}, inplace = True)"
   ]
  },
  {
   "cell_type": "code",
   "execution_count": 3,
   "metadata": {
    "collapsed": false
   },
   "outputs": [
    {
     "data": {
      "text/plain": [
       "233"
      ]
     },
     "execution_count": 3,
     "metadata": {},
     "output_type": "execute_result"
    }
   ],
   "source": [
    "len(sauermet)"
   ]
  },
  {
   "cell_type": "markdown",
   "metadata": {},
   "source": [
    "## Export Formatted Sauermet Data"
   ]
  },
  {
   "cell_type": "code",
   "execution_count": 4,
   "metadata": {
    "collapsed": true
   },
   "outputs": [],
   "source": [
    "#sauermet.to_csv('sauermet_edited.csv', sep = '\\t', index = False) #export an edited Sauermet csv with no unnannotated metabolite rows"
   ]
  },
  {
   "cell_type": "markdown",
   "metadata": {},
   "source": [
    "# Create/Export a Table of Disagreeing Annotations from SauerMet"
   ]
  },
  {
   "cell_type": "markdown",
   "metadata": {},
   "source": [
    "## Import Y-ome and Non Y-ome Genes from PSQL"
   ]
  },
  {
   "cell_type": "code",
   "execution_count": 5,
   "metadata": {
    "collapsed": false
   },
   "outputs": [],
   "source": [
    "session = Session()\n",
    "genes = to_df(\n",
    "    session.query(Gene.locus_id, KnowledgebaseGene.primary_name, Synonym.synonym, Knowledgebase.name, KnowledgebaseGene.annotation_quality)\n",
    "    .join(KnowledgebaseGene)\n",
    "    .join(Synonym, KnowledgebaseGene.id == Synonym.ref_id)\n",
    "    .join(Knowledgebase)\n",
    "    .filter(Knowledgebase.name == 'Y-ome')\n",
    "    , ['bnum', 'gene_name', 'syn', 'knowledgebase', 'ann_quality']\n",
    ") \n",
    "\n",
    "session.close()"
   ]
  },
  {
   "cell_type": "code",
   "execution_count": 6,
   "metadata": {
    "collapsed": true
   },
   "outputs": [],
   "source": [
    "change = genes[genes.syn==genes.gene_name]\n",
    "genes.loc[change.index, 'syn'] = 'None'\n",
    "genes = genes.drop_duplicates()\n",
    "genes.index = range(0, len(genes))\n",
    "\n",
    "drop1 = genes[genes.syn.isin(genes.bnum)]\n",
    "drop2 = genes[genes.syn.isin(genes.gene_name)]\n",
    "drop = pd.concat([drop1, drop2], 0)\n",
    "\n",
    "genes = genes.drop(genes.index[[drop.index]])\n",
    "yome = genes[genes.ann_quality == 'low']\n",
    "well = genes[genes.ann_quality == 'high']\n",
    "\n",
    "yome_uniq = yome.drop(['syn'],1)\n",
    "yome_uniq = yome_uniq.drop_duplicates()\n",
    "well_uniq = well.drop(['syn'],1)\n",
    "well_uniq = well_uniq.drop_duplicates()\n",
    "genes_uniq = genes.drop(['syn'],1)\n",
    "genes_uniq = genes_uniq.drop_duplicates()\n",
    "\n",
    "yome.index = range(0,len(yome))\n",
    "well.index = range(0,len(well))\n",
    "genes.index = range(0,len(genes))"
   ]
  },
  {
   "cell_type": "code",
   "execution_count": 7,
   "metadata": {
    "collapsed": false
   },
   "outputs": [
    {
     "data": {
      "text/plain": [
       "(4514, 9642, 14156)"
      ]
     },
     "execution_count": 7,
     "metadata": {},
     "output_type": "execute_result"
    }
   ],
   "source": [
    "len(yome), len(well), len(genes)"
   ]
  },
  {
   "cell_type": "code",
   "execution_count": 8,
   "metadata": {
    "collapsed": false
   },
   "outputs": [
    {
     "data": {
      "text/plain": [
       "(1930, 2669, 4599)"
      ]
     },
     "execution_count": 8,
     "metadata": {},
     "output_type": "execute_result"
    }
   ],
   "source": [
    "len(yome_uniq), len(well_uniq), len(genes_uniq)"
   ]
  },
  {
   "cell_type": "markdown",
   "metadata": {},
   "source": [
    "## Input Queries either as a Series of bnums/gene names or from a txt "
   ]
  },
  {
   "cell_type": "code",
   "execution_count": 9,
   "metadata": {
    "collapsed": false
   },
   "outputs": [],
   "source": [
    "query_pre = ['b0419', 'b0542', 'yaiE']\n",
    "#query = pd.read_csv('*insert file here*', sep = '\\t') #use to query from csv files\n",
    "#query1 = query.*insert bnum column here* \n",
    "#query2 = query.*insert gene name column here*\n",
    "#query = pd.concat([query1, query2], 0)\n",
    "#query_pre = list(query)\n",
    "\n",
    "q1 = genes[genes.bnum.isin(query_pre)]\n",
    "q2 = genes[genes.gene_name.isin(query_pre)]\n",
    "q3 = genes[genes.syn.isin(query_pre)]\n",
    "qt = pd.concat([q1,q2,q3],0)\n",
    "qt = qt.drop_duplicates()\n",
    "\n",
    "query = list(qt.syn) + list(qt.bnum) + list(qt.gene_name)"
   ]
  },
  {
   "cell_type": "code",
   "execution_count": 10,
   "metadata": {
    "collapsed": false
   },
   "outputs": [
    {
     "data": {
      "text/html": [
       "<div>\n",
       "<table border=\"1\" class=\"dataframe\">\n",
       "  <thead>\n",
       "    <tr style=\"text-align: right;\">\n",
       "      <th></th>\n",
       "      <th>Z_score_lysate</th>\n",
       "      <th>Z_score_pure</th>\n",
       "      <th>annotation</th>\n",
       "      <th>annotation_1</th>\n",
       "      <th>annotation_10</th>\n",
       "      <th>annotation_11</th>\n",
       "      <th>annotation_12</th>\n",
       "      <th>annotation_13</th>\n",
       "      <th>annotation_14</th>\n",
       "      <th>annotation_15</th>\n",
       "      <th>annotation_16</th>\n",
       "      <th>annotation_17</th>\n",
       "      <th>annotation_18</th>\n",
       "      <th>annotation_19</th>\n",
       "      <th>annotation_2</th>\n",
       "      <th>annotation_20</th>\n",
       "      <th>annotation_21</th>\n",
       "      <th>annotation_22</th>\n",
       "      <th>annotation_23</th>\n",
       "      <th>annotation_24</th>\n",
       "      <th>annotation_25</th>\n",
       "      <th>annotation_3</th>\n",
       "      <th>annotation_4</th>\n",
       "      <th>annotation_5</th>\n",
       "      <th>annotation_6</th>\n",
       "      <th>annotation_7</th>\n",
       "      <th>annotation_8</th>\n",
       "      <th>annotation_9</th>\n",
       "      <th>change_direction</th>\n",
       "      <th>gene_annotation</th>\n",
       "      <th>gene_name</th>\n",
       "      <th>hit_in_which_assay?</th>\n",
       "      <th>ion_m/z</th>\n",
       "      <th>bnum</th>\n",
       "    </tr>\n",
       "  </thead>\n",
       "  <tbody>\n",
       "    <tr>\n",
       "      <th>8</th>\n",
       "      <td>5.28</td>\n",
       "      <td>-0.17</td>\n",
       "      <td>Acetate [M-H [CORR]]-</td>\n",
       "      <td>Uracil [M-H [CORR]]-</td>\n",
       "      <td>Glycolaldehyde [M-H [CORR]]-</td>\n",
       "      <td>L-Homoserine [M+F [CORR]]-</td>\n",
       "      <td>3-Methoxyanthranilate [M-H [CORR]]-</td>\n",
       "      <td>3-Hydroxy-4-hydroxymethyl-2-methylpyridine-5-c...</td>\n",
       "      <td>Dihydroechinofuran [M+F [CORR]]-</td>\n",
       "      <td>L-Allothreonine [M+F [CORR]]-</td>\n",
       "      <td>Isopyridoxal [M-H [CORR]]-</td>\n",
       "      <td>L-erythro-4-Hydroxyglutamate [M+F [CORR]]-</td>\n",
       "      <td>alpha-Ribazole [M-H [CORR]]-</td>\n",
       "      <td>L-Glutamate [M+F [CORR]]-</td>\n",
       "      <td>L-Threonine [M+F [CORR]]-</td>\n",
       "      <td>D-Glutamate [M+F [CORR]]-</td>\n",
       "      <td>DL-Glutamate [M+F [CORR]]-</td>\n",
       "      <td>O-Acetyl-L-serine [M+F [CORR]]-</td>\n",
       "      <td>L-threo-3-Methylaspartate [M+F [CORR]]-</td>\n",
       "      <td>L-4-Hydroxyglutamate semialdehyde [M+F [CORR]]-</td>\n",
       "      <td>2-Oxo-4-hydroxy-5-aminovalerate [M+F [CORR]]-</td>\n",
       "      <td>L-Histidine [M-H [CORR]]-</td>\n",
       "      <td>Pyridoxal [M-H [CORR]]-</td>\n",
       "      <td>Toluene-4-sulfonate [M+1 M-H [CORR]]-</td>\n",
       "      <td>4-Pyridoxate [M-H [CORR]]-</td>\n",
       "      <td>O-Phospho-L-serine [M-H [CORR]]-</td>\n",
       "      <td>N6-Acetyl-N6-hydroxy-L-lysine [M+F [CORR]]-</td>\n",
       "      <td>Pantetheine [M-H [CORR]]-</td>\n",
       "      <td>product</td>\n",
       "      <td>conserved protein, UPF0345 family</td>\n",
       "      <td>yaiE</td>\n",
       "      <td>LYSATE ONLY</td>\n",
       "      <td>269.0886</td>\n",
       "      <td>b0391</td>\n",
       "    </tr>\n",
       "    <tr>\n",
       "      <th>14</th>\n",
       "      <td>-5.33</td>\n",
       "      <td>-0.34</td>\n",
       "      <td>S-(Formylmethyl)glutathione [M-H]-</td>\n",
       "      <td>NaN</td>\n",
       "      <td>NaN</td>\n",
       "      <td>NaN</td>\n",
       "      <td>NaN</td>\n",
       "      <td>NaN</td>\n",
       "      <td>NaN</td>\n",
       "      <td>NaN</td>\n",
       "      <td>NaN</td>\n",
       "      <td>NaN</td>\n",
       "      <td>NaN</td>\n",
       "      <td>NaN</td>\n",
       "      <td>NaN</td>\n",
       "      <td>NaN</td>\n",
       "      <td>NaN</td>\n",
       "      <td>NaN</td>\n",
       "      <td>NaN</td>\n",
       "      <td>NaN</td>\n",
       "      <td>NaN</td>\n",
       "      <td>NaN</td>\n",
       "      <td>NaN</td>\n",
       "      <td>NaN</td>\n",
       "      <td>NaN</td>\n",
       "      <td>NaN</td>\n",
       "      <td>NaN</td>\n",
       "      <td>NaN</td>\n",
       "      <td>substrate</td>\n",
       "      <td>2-carboxybenzaldehyde reductase, function unknown</td>\n",
       "      <td>yajO</td>\n",
       "      <td>LYSATE ONLY</td>\n",
       "      <td>348.0881</td>\n",
       "      <td>b0419</td>\n",
       "    </tr>\n",
       "  </tbody>\n",
       "</table>\n",
       "</div>"
      ],
      "text/plain": [
       "    Z_score_lysate  Z_score_pure                          annotation  \\\n",
       "8             5.28         -0.17               Acetate [M-H [CORR]]-   \n",
       "14           -5.33         -0.34  S-(Formylmethyl)glutathione [M-H]-   \n",
       "\n",
       "            annotation_1                 annotation_10  \\\n",
       "8   Uracil [M-H [CORR]]-  Glycolaldehyde [M-H [CORR]]-   \n",
       "14                   NaN                           NaN   \n",
       "\n",
       "                 annotation_11                        annotation_12  \\\n",
       "8   L-Homoserine [M+F [CORR]]-  3-Methoxyanthranilate [M-H [CORR]]-   \n",
       "14                         NaN                                  NaN   \n",
       "\n",
       "                                        annotation_13  \\\n",
       "8   3-Hydroxy-4-hydroxymethyl-2-methylpyridine-5-c...   \n",
       "14                                                NaN   \n",
       "\n",
       "                       annotation_14                  annotation_15  \\\n",
       "8   Dihydroechinofuran [M+F [CORR]]-  L-Allothreonine [M+F [CORR]]-   \n",
       "14                               NaN                            NaN   \n",
       "\n",
       "                 annotation_16                               annotation_17  \\\n",
       "8   Isopyridoxal [M-H [CORR]]-  L-erythro-4-Hydroxyglutamate [M+F [CORR]]-   \n",
       "14                         NaN                                         NaN   \n",
       "\n",
       "                   annotation_18              annotation_19  \\\n",
       "8   alpha-Ribazole [M-H [CORR]]-  L-Glutamate [M+F [CORR]]-   \n",
       "14                           NaN                        NaN   \n",
       "\n",
       "                 annotation_2              annotation_20  \\\n",
       "8   L-Threonine [M+F [CORR]]-  D-Glutamate [M+F [CORR]]-   \n",
       "14                        NaN                        NaN   \n",
       "\n",
       "                 annotation_21                    annotation_22  \\\n",
       "8   DL-Glutamate [M+F [CORR]]-  O-Acetyl-L-serine [M+F [CORR]]-   \n",
       "14                         NaN                              NaN   \n",
       "\n",
       "                              annotation_23  \\\n",
       "8   L-threo-3-Methylaspartate [M+F [CORR]]-   \n",
       "14                                      NaN   \n",
       "\n",
       "                                      annotation_24  \\\n",
       "8   L-4-Hydroxyglutamate semialdehyde [M+F [CORR]]-   \n",
       "14                                              NaN   \n",
       "\n",
       "                                    annotation_25               annotation_3  \\\n",
       "8   2-Oxo-4-hydroxy-5-aminovalerate [M+F [CORR]]-  L-Histidine [M-H [CORR]]-   \n",
       "14                                            NaN                        NaN   \n",
       "\n",
       "               annotation_4                           annotation_5  \\\n",
       "8   Pyridoxal [M-H [CORR]]-  Toluene-4-sulfonate [M+1 M-H [CORR]]-   \n",
       "14                      NaN                                    NaN   \n",
       "\n",
       "                  annotation_6                      annotation_7  \\\n",
       "8   4-Pyridoxate [M-H [CORR]]-  O-Phospho-L-serine [M-H [CORR]]-   \n",
       "14                         NaN                               NaN   \n",
       "\n",
       "                                   annotation_8               annotation_9  \\\n",
       "8   N6-Acetyl-N6-hydroxy-L-lysine [M+F [CORR]]-  Pantetheine [M-H [CORR]]-   \n",
       "14                                          NaN                        NaN   \n",
       "\n",
       "   change_direction                                    gene_annotation  \\\n",
       "8           product                  conserved protein, UPF0345 family   \n",
       "14        substrate  2-carboxybenzaldehyde reductase, function unknown   \n",
       "\n",
       "   gene_name hit_in_which_assay?   ion_m/z   bnum  \n",
       "8       yaiE         LYSATE ONLY  269.0886  b0391  \n",
       "14      yajO         LYSATE ONLY  348.0881  b0419  "
      ]
     },
     "execution_count": 10,
     "metadata": {},
     "output_type": "execute_result"
    }
   ],
   "source": [
    "sauermet_query1 = sauermet[sauermet.bnum.isin(query)]\n",
    "sauermet_query2 = sauermet[sauermet.gene_name.isin(query)]\n",
    "sauermet_query = pd.concat([sauermet_query1, sauermet_query2], 0)\n",
    "sauermet_query = sauermet_query.drop_duplicates()\n",
    "sauermet_query = sauermet_query.dropna(axis=1, how='all')\n",
    "sauermet_query"
   ]
  },
  {
   "cell_type": "markdown",
   "metadata": {},
   "source": [
    "## Find Mismatches and Create Table"
   ]
  },
  {
   "cell_type": "code",
   "execution_count": 11,
   "metadata": {
    "collapsed": false
   },
   "outputs": [],
   "source": [
    "mismatch1 = yome[yome.gene_name.isin(sauermet1['gene name'])]\n",
    "mismatch2 = yome[yome.bnum.isin(sauermet1['locus tag'])]\n",
    "mismatch3 = yome[yome.syn.isin(sauermet1['gene name'])]\n",
    "mismatch4 = yome[yome.syn.isin(sauermet1['locus tag'])]\n",
    "\n",
    "mismatch5 = well[well.gene_name.isin(sauermet2['gene name'])]\n",
    "mismatch6 = well[well.bnum.isin(sauermet2['locus tag'])]\n",
    "mismatch7 = well[well.syn.isin(sauermet2['gene name'])]\n",
    "mismatch8 = well[well.syn.isin(sauermet2['locus tag'])]\n",
    "\n",
    "yknown = pd.concat([mismatch1, mismatch2, mismatch3, mismatch4], 0)\n",
    "yknown = yknown.drop(['syn'],1)\n",
    "yknown = yknown.drop_duplicates()\n",
    "wunknown = pd.concat([mismatch5, mismatch6, mismatch7, mismatch8], 0)\n",
    "wunknown = wunknown.drop(['syn'],1)\n",
    "wunknown = wunknown.drop_duplicates()\n",
    "\n",
    "yknown['sauermet_quality'] = 'high'\n",
    "wunknown['sauermet_quality'] = 'low'\n",
    "\n",
    "sauermet_disagree = pd.concat([yknown, wunknown],0)\n",
    "#sauermet_disagree.to_csv('sauermet_disagree.csv', sep = '\\t', index = False)"
   ]
  },
  {
   "cell_type": "code",
   "execution_count": 12,
   "metadata": {
    "collapsed": false
   },
   "outputs": [
    {
     "data": {
      "text/plain": [
       "(1, 27)"
      ]
     },
     "execution_count": 12,
     "metadata": {},
     "output_type": "execute_result"
    }
   ],
   "source": [
    "len(yknown), len(wunknown)"
   ]
  },
  {
   "cell_type": "code",
   "execution_count": 13,
   "metadata": {
    "collapsed": false
   },
   "outputs": [
    {
     "name": "stdout",
     "output_type": "stream",
     "text": [
      "There are 28 genes that have different annotation_qualities in SauerMet and our Y-ome database\n"
     ]
    }
   ],
   "source": [
    "print('There are', len(sauermet_disagree), 'genes that have different annotation_qualities in SauerMet and our Y-ome database')"
   ]
  },
  {
   "cell_type": "markdown",
   "metadata": {},
   "source": [
    "# Looking at Y-ome and non Y-ome Genes in SauerMet"
   ]
  },
  {
   "cell_type": "code",
   "execution_count": 14,
   "metadata": {
    "collapsed": false
   },
   "outputs": [],
   "source": [
    "yome_sm1 = sauermet[sauermet.bnum.isin(yome.bnum)]\n",
    "yome_sm2 = sauermet[sauermet.gene_name.isin(yome.gene_name)]\n",
    "yome_sm3 = sauermet[sauermet.bnum.isin(yome.syn)]\n",
    "yome_sm4 = sauermet[sauermet.gene_name.isin(yome.syn)]\n",
    "smy = pd.concat([yome_sm1, yome_sm2, yome_sm3, yome_sm4], 0)\n",
    "smy = smy.drop_duplicates()\n",
    "\n",
    "well_sm1 = sauermet[sauermet.bnum.isin(well.bnum)]\n",
    "well_sm2 = sauermet[sauermet.gene_name.isin(well.gene_name)]\n",
    "well_sm3 = sauermet[sauermet.bnum.isin(well.syn)]\n",
    "well_sm4 = sauermet[sauermet.gene_name.isin(well.syn)]\n",
    "smw = pd.concat([well_sm1, well_sm2, well_sm4], 0)\n",
    "smw = smw.drop_duplicates()"
   ]
  },
  {
   "cell_type": "code",
   "execution_count": 15,
   "metadata": {
    "collapsed": false
   },
   "outputs": [
    {
     "data": {
      "text/plain": [
       "(233, 110, 123)"
      ]
     },
     "execution_count": 15,
     "metadata": {},
     "output_type": "execute_result"
    }
   ],
   "source": [
    "len(sauermet), len(smy), len(smw) #all genes with hits in this survey are in our database"
   ]
  },
  {
   "cell_type": "markdown",
   "metadata": {},
   "source": [
    "## how many unique y-genes and well-annotated genes had metabolite hits in this assay?"
   ]
  },
  {
   "cell_type": "code",
   "execution_count": 16,
   "metadata": {
    "collapsed": false
   },
   "outputs": [],
   "source": [
    "smy_unique = smy[['bnum', 'gene_name']]\n",
    "smy_unique = smy_unique.drop_duplicates()\n",
    "smw_unique = smw[['bnum', 'gene_name']]\n",
    "smw_unique = smw_unique.drop_duplicates()"
   ]
  },
  {
   "cell_type": "code",
   "execution_count": 17,
   "metadata": {
    "collapsed": false
   },
   "outputs": [
    {
     "name": "stdout",
     "output_type": "stream",
     "text": [
      "There were 51 y-ome genes and 41 well-annotated genes that affected a metabolites concentration (z-score > 5) in Sauermet\n"
     ]
    }
   ],
   "source": [
    "print('There were', len(smy_unique), 'y-ome genes and', len(smw_unique), 'well-annotated genes that affected a metabolites concentration (z-score > 5) in Sauermet')"
   ]
  },
  {
   "cell_type": "markdown",
   "metadata": {},
   "source": [
    "## How many y-genes with products? substrates? how about well-annotated genes? "
   ]
  },
  {
   "cell_type": "code",
   "execution_count": 18,
   "metadata": {
    "collapsed": false
   },
   "outputs": [],
   "source": [
    "smy_prod = smy[smy.change_direction == 'product']\n",
    "smw_prod = smw[smw.change_direction == 'product']\n",
    "smy_subs = smy[smy.change_direction == 'substrate']\n",
    "smw_subs = smw[smw.change_direction == 'substrate']\n",
    "\n",
    "smy_prod_uniq = smy_prod[['bnum', 'gene_name']]\n",
    "smy_prod_uniq = smy_prod_uniq.drop_duplicates()\n",
    "smy_subs_uniq = smy_subs[['bnum', 'gene_name']]\n",
    "smy_subs_uniq = smy_subs_uniq.drop_duplicates()\n",
    "smw_prod_uniq = smw_prod[['bnum', 'gene_name']]\n",
    "smw_prod_uniq = smw_prod_uniq.drop_duplicates()\n",
    "smw_subs_uniq = smw_subs[['bnum', 'gene_name']]\n",
    "smw_subs_uniq = smw_subs_uniq.drop_duplicates()"
   ]
  },
  {
   "cell_type": "code",
   "execution_count": 19,
   "metadata": {
    "collapsed": false
   },
   "outputs": [],
   "source": [
    "ps_data = {'ann_quality': ['y-ome', 'well'], \n",
    "           'Unique Genes w/ Products': [len(smy_prod_uniq), len(smw_prod_uniq)],\n",
    "           'Percentage of Unique Genes w/ Products': [100*len(smy_prod_uniq)/len(smy_unique), 100*len(smw_prod_uniq)/len(smw_unique)],\n",
    "           '# of Assays w/ Products': [len(smy_prod), len(smw_prod)],\n",
    "           'Unique Genes w/ Substrates': [len(smy_subs_uniq), len(smw_subs_uniq)],\n",
    "           'Percentage of Unique Genes w/ Substrates': [100*len(smy_subs_uniq)/len(smy_unique), 100*len(smw_subs_uniq)/len(smw_unique)],\n",
    "           '# of Assays w/ Substrates': [len(smy_subs), len(smw_subs)]}\n",
    "\n",
    "ps_table = pd.DataFrame(data=ps_data, index = range(0,2))"
   ]
  },
  {
   "cell_type": "code",
   "execution_count": 20,
   "metadata": {
    "collapsed": false
   },
   "outputs": [
    {
     "data": {
      "text/html": [
       "<div>\n",
       "<table border=\"1\" class=\"dataframe\">\n",
       "  <thead>\n",
       "    <tr style=\"text-align: right;\">\n",
       "      <th></th>\n",
       "      <th># of Assays w/ Products</th>\n",
       "      <th># of Assays w/ Substrates</th>\n",
       "      <th>Percentage of Unique Genes w/ Products</th>\n",
       "      <th>Percentage of Unique Genes w/ Substrates</th>\n",
       "      <th>Unique Genes w/ Products</th>\n",
       "      <th>Unique Genes w/ Substrates</th>\n",
       "      <th>ann_quality</th>\n",
       "    </tr>\n",
       "  </thead>\n",
       "  <tbody>\n",
       "    <tr>\n",
       "      <th>0</th>\n",
       "      <td>90</td>\n",
       "      <td>20</td>\n",
       "      <td>88.235294</td>\n",
       "      <td>25.490196</td>\n",
       "      <td>45</td>\n",
       "      <td>13</td>\n",
       "      <td>y-ome</td>\n",
       "    </tr>\n",
       "    <tr>\n",
       "      <th>1</th>\n",
       "      <td>68</td>\n",
       "      <td>55</td>\n",
       "      <td>75.609756</td>\n",
       "      <td>53.658537</td>\n",
       "      <td>31</td>\n",
       "      <td>22</td>\n",
       "      <td>well</td>\n",
       "    </tr>\n",
       "  </tbody>\n",
       "</table>\n",
       "</div>"
      ],
      "text/plain": [
       "   # of Assays w/ Products  # of Assays w/ Substrates  \\\n",
       "0                       90                         20   \n",
       "1                       68                         55   \n",
       "\n",
       "   Percentage of Unique Genes w/ Products  \\\n",
       "0                               88.235294   \n",
       "1                               75.609756   \n",
       "\n",
       "   Percentage of Unique Genes w/ Substrates  Unique Genes w/ Products  \\\n",
       "0                                 25.490196                        45   \n",
       "1                                 53.658537                        31   \n",
       "\n",
       "   Unique Genes w/ Substrates ann_quality  \n",
       "0                          13       y-ome  \n",
       "1                          22        well  "
      ]
     },
     "execution_count": 20,
     "metadata": {},
     "output_type": "execute_result"
    }
   ],
   "source": [
    "ps_table"
   ]
  },
  {
   "cell_type": "code",
   "execution_count": 21,
   "metadata": {
    "collapsed": false
   },
   "outputs": [],
   "source": [
    "smy_prod1 = smy_prod_uniq\n",
    "smy_prod1.index = range(0,len(smy_prod1))\n",
    "smy_subs1 = smy_subs_uniq\n",
    "smy_subs1.index = range(0,len(smy_subs1))\n",
    "\n",
    "smy_prodsubs = smy_prod1[smy_prod1.bnum.isin(smy_subs_uniq.bnum)]\n",
    "smy_subsprod = smy_subs1[smy_subs1.bnum.isin(smy_prod_uniq.bnum)]\n",
    "smy_prodonly = smy_prod1.drop(smy_prod1.index[[smy_prodsubs.index]])\n",
    "smy_subsonly = smy_subs1.drop(smy_subs1.index[[smy_subsprod.index]])\n",
    "\n",
    "smw_prod1 = smw_prod_uniq\n",
    "smw_prod1.index = range(0,len(smw_prod1))\n",
    "smw_subs1 = smw_subs_uniq\n",
    "smw_subs1.index = range(0,len(smw_subs1))\n",
    "\n",
    "smw_prodsubs = smw_prod1[smw_prod1.bnum.isin(smw_subs_uniq.bnum)]\n",
    "smw_subsprod = smw_subs1[smw_subs1.bnum.isin(smw_prod_uniq.bnum)]\n",
    "smw_prodonly = smw_prod1.drop(smw_prod1.index[[smw_prodsubs.index]])\n",
    "smw_subsonly = smw_subs1.drop(smw_subs1.index[[smw_subsprod.index]])"
   ]
  },
  {
   "cell_type": "code",
   "execution_count": 22,
   "metadata": {
    "collapsed": false
   },
   "outputs": [],
   "source": [
    "excps_data = {'ann_quality': ['y-ome', 'well'],\n",
    "              'Genes w/ Only Products': [len(smy_prodonly), len(smw_prodonly)],\n",
    "              'Genes w/ Only Substrates': [len(smy_subsonly), len(smw_subsonly)],\n",
    "              'Genes w/ Both Products and Substates': [len(smy_subsprod), len(smw_subsprod)]}\n",
    "\n",
    "excps_table = pd.DataFrame(data=excps_data, index = range(0,2))"
   ]
  },
  {
   "cell_type": "code",
   "execution_count": 23,
   "metadata": {
    "collapsed": false
   },
   "outputs": [
    {
     "data": {
      "text/html": [
       "<div>\n",
       "<table border=\"1\" class=\"dataframe\">\n",
       "  <thead>\n",
       "    <tr style=\"text-align: right;\">\n",
       "      <th></th>\n",
       "      <th>Genes w/ Both Products and Substates</th>\n",
       "      <th>Genes w/ Only Products</th>\n",
       "      <th>Genes w/ Only Substrates</th>\n",
       "      <th>ann_quality</th>\n",
       "    </tr>\n",
       "  </thead>\n",
       "  <tbody>\n",
       "    <tr>\n",
       "      <th>0</th>\n",
       "      <td>7</td>\n",
       "      <td>38</td>\n",
       "      <td>6</td>\n",
       "      <td>y-ome</td>\n",
       "    </tr>\n",
       "    <tr>\n",
       "      <th>1</th>\n",
       "      <td>12</td>\n",
       "      <td>19</td>\n",
       "      <td>10</td>\n",
       "      <td>well</td>\n",
       "    </tr>\n",
       "  </tbody>\n",
       "</table>\n",
       "</div>"
      ],
      "text/plain": [
       "   Genes w/ Both Products and Substates  Genes w/ Only Products  \\\n",
       "0                                     7                      38   \n",
       "1                                    12                      19   \n",
       "\n",
       "   Genes w/ Only Substrates ann_quality  \n",
       "0                         6       y-ome  \n",
       "1                        10        well  "
      ]
     },
     "execution_count": 23,
     "metadata": {},
     "output_type": "execute_result"
    }
   ],
   "source": [
    "excps_table"
   ]
  },
  {
   "cell_type": "markdown",
   "metadata": {},
   "source": [
    "## Is there a Z-score effect difference between y-ome genes and well genes? "
   ]
  },
  {
   "cell_type": "code",
   "execution_count": 24,
   "metadata": {
    "collapsed": false
   },
   "outputs": [],
   "source": [
    "smy_z = smy[['Z_score_lysate', 'Z_score_pure']]\n",
    "smw_z = smw[['Z_score_lysate', 'Z_score_pure']]\n",
    "smy_z_stack = pd.melt(smy_z)\n",
    "smw_z_stack = pd.melt(smw_z)\n",
    "smy_z_stack = smy_z_stack[smy_z_stack.value.abs()>=5]\n",
    "smw_z_stack = smw_z_stack[smw_z_stack.value.abs()>=5]"
   ]
  },
  {
   "cell_type": "code",
   "execution_count": 25,
   "metadata": {
    "collapsed": false
   },
   "outputs": [
    {
     "data": {
      "text/plain": [
       "<matplotlib.axes._subplots.AxesSubplot at 0x7fdaf1ddc0b8>"
      ]
     },
     "execution_count": 25,
     "metadata": {},
     "output_type": "execute_result"
    },
    {
     "data": {
      "image/png": "[encoded data removed]",
      "text/plain": [
       "<matplotlib.figure.Figure at 0x7fdaf1dd4a20>"
      ]
     },
     "metadata": {},
     "output_type": "display_data"
    }
   ],
   "source": [
    "smy_z_stack.value.plot.hist(title='Distribution of Z-Scores for Y-ome Genes') #negative = substrate, positive = product"
   ]
  },
  {
   "cell_type": "code",
   "execution_count": 26,
   "metadata": {
    "collapsed": false
   },
   "outputs": [
    {
     "data": {
      "text/plain": [
       "<matplotlib.axes._subplots.AxesSubplot at 0x7fdaf1d0ac50>"
      ]
     },
     "execution_count": 26,
     "metadata": {},
     "output_type": "execute_result"
    },
    {
     "data": {
      "image/png": "[encoded data removed]",
      "text/plain": [
       "<matplotlib.figure.Figure at 0x7fdaf1d7f588>"
      ]
     },
     "metadata": {},
     "output_type": "display_data"
    }
   ],
   "source": [
    "smw_z_stack.value.plot.hist(title='Distribution of Z-Scores for Well Genes')"
   ]
  }
 ],
 "metadata": {
  "kernelspec": {
   "display_name": "Python 3",
   "language": "python",
   "name": "python3"
  },
  "language_info": {
   "codemirror_mode": {
    "name": "ipython",
    "version": 3
   },
   "file_extension": ".py",
   "mimetype": "text/x-python",
   "name": "python",
   "nbconvert_exporter": "python",
   "pygments_lexer": "ipython3",
   "version": "3.7.0"
  }
 },
 "nbformat": 4,
 "nbformat_minor": 2
}
