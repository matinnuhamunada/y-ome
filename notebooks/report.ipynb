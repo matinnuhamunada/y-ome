{
 "cells": [
  {
   "cell_type": "markdown",
   "metadata": {},
   "source": [
    "# Generate a report of the database features for a given gene"
   ]
  },
  {
   "cell_type": "code",
   "execution_count": 2,
   "metadata": {},
   "outputs": [],
   "source": [
    "import json\n",
    "import pandas as pd\n",
    "import numpy as np\n",
    "from yome import Session\n",
    "from yome.models import *\n",
    "from yome.util import to_df, report, scale_color, mpl_setup\n",
    "from yome.constants import (\n",
    "    colors_by_number as colors,\n",
    "    hatches_by_number as hatches,\n",
    ")\n",
    "import re\n",
    "from sqlalchemy.orm import aliased\n",
    "import itertools as it\n",
    "import seaborn as sns"
   ]
  },
  {
   "cell_type": "code",
   "execution_count": 3,
   "metadata": {},
   "outputs": [],
   "source": [
    "session = Session()"
   ]
  },
  {
   "cell_type": "markdown",
   "metadata": {},
   "source": [
    "## Provide a gene locus tag or primary name"
   ]
  },
  {
   "cell_type": "code",
   "execution_count": 8,
   "metadata": {},
   "outputs": [
    {
     "name": "stdout",
     "output_type": "stream",
     "text": [
      "locus_id        b0427\n",
      "primary_name     yajR\n",
      "Name: 0, dtype: object\n"
     ]
    },
    {
     "data": {
      "text/html": [
       "<style  type=\"text/css\" >\n",
       "    #T_b6099142_e8fd_11e8_846e_406c8fbb9e82row0_col0 {\n",
       "            text-align:  left;\n",
       "        }    #T_b6099142_e8fd_11e8_846e_406c8fbb9e82row1_col0 {\n",
       "            text-align:  left;\n",
       "        }    #T_b6099142_e8fd_11e8_846e_406c8fbb9e82row2_col0 {\n",
       "            text-align:  left;\n",
       "        }    #T_b6099142_e8fd_11e8_846e_406c8fbb9e82row3_col0 {\n",
       "            text-align:  left;\n",
       "        }    #T_b6099142_e8fd_11e8_846e_406c8fbb9e82row4_col0 {\n",
       "            text-align:  left;\n",
       "        }    #T_b6099142_e8fd_11e8_846e_406c8fbb9e82row5_col0 {\n",
       "            text-align:  left;\n",
       "        }    #T_b6099142_e8fd_11e8_846e_406c8fbb9e82row6_col0 {\n",
       "            text-align:  left;\n",
       "        }    #T_b6099142_e8fd_11e8_846e_406c8fbb9e82row7_col0 {\n",
       "            text-align:  left;\n",
       "        }    #T_b6099142_e8fd_11e8_846e_406c8fbb9e82row8_col0 {\n",
       "            text-align:  left;\n",
       "        }    #T_b6099142_e8fd_11e8_846e_406c8fbb9e82row9_col0 {\n",
       "            text-align:  left;\n",
       "        }    #T_b6099142_e8fd_11e8_846e_406c8fbb9e82row10_col0 {\n",
       "            text-align:  left;\n",
       "        }    #T_b6099142_e8fd_11e8_846e_406c8fbb9e82row11_col0 {\n",
       "            text-align:  left;\n",
       "        }    #T_b6099142_e8fd_11e8_846e_406c8fbb9e82row12_col0 {\n",
       "            text-align:  left;\n",
       "        }    #T_b6099142_e8fd_11e8_846e_406c8fbb9e82row13_col0 {\n",
       "            text-align:  left;\n",
       "        }    #T_b6099142_e8fd_11e8_846e_406c8fbb9e82row14_col0 {\n",
       "            text-align:  left;\n",
       "        }    #T_b6099142_e8fd_11e8_846e_406c8fbb9e82row15_col0 {\n",
       "            text-align:  left;\n",
       "        }    #T_b6099142_e8fd_11e8_846e_406c8fbb9e82row16_col0 {\n",
       "            text-align:  left;\n",
       "        }    #T_b6099142_e8fd_11e8_846e_406c8fbb9e82row17_col0 {\n",
       "            text-align:  left;\n",
       "        }</style>  \n",
       "<table id=\"T_b6099142_e8fd_11e8_846e_406c8fbb9e82\" > \n",
       "<thead>    <tr> \n",
       "        <th class=\"blank\" ></th> \n",
       "        <th class=\"blank level0\" ></th> \n",
       "        <th class=\"col_heading level0 col0\" >feature</th> \n",
       "    </tr>    <tr> \n",
       "        <th class=\"index_name level0\" >knowledgebase_name</th> \n",
       "        <th class=\"index_name level1\" >feature_type</th> \n",
       "        <th class=\"blank\" ></th> \n",
       "    </tr></thead> \n",
       "<tbody>    <tr> \n",
       "        <th id=\"T_b6099142_e8fd_11e8_846e_406c8fbb9e82level0_row0\" class=\"row_heading level0 row0\" rowspan=6>EcoCyc (low)</th> \n",
       "        <th id=\"T_b6099142_e8fd_11e8_846e_406c8fbb9e82level1_row0\" class=\"row_heading level1 row0\" >description</th> \n",
       "        <td id=\"T_b6099142_e8fd_11e8_846e_406c8fbb9e82row0_col0\" class=\"data row0 col0\" >putative major facilitator superfamily transport protein YajR</td> \n",
       "    </tr>    <tr> \n",
       "        <th id=\"T_b6099142_e8fd_11e8_846e_406c8fbb9e82level1_row1\" class=\"row_heading level1 row1\" >summary_html</th> \n",
       "        <td id=\"T_b6099142_e8fd_11e8_846e_406c8fbb9e82row1_col0\" class=\"data row1 col0\" >SummaryThe YajR protein is an uncharacterised member of the Sugar Porter (SP) Family within the Major Facilitator Superfamily (MFS) of transporters [Pao98, Saier16]. The crystal structure of YajR in an outward facing conformation has been resolved. The 12 transmembrane regions form an N-terminal domain (residues 3-184) and a C-terminal domain (215 - 386) connected by a 30 residue helical linker. YajR also contains a small 65 amino acid (residues 389 - 454) cytoplasmic domain which contains a ferredoxin-like fold. The N and C termini are located in the cytoplasm and the structure contains a central cavity which is open to the periplasm and closed to the cytoplasm [Jiang13b]. The signature motif A, which is conserved in MFS transporters, is located in the loop connecting TM 2 and 3 [Jiang13b].Overexpression of cloned yajR in a K-12 strain which lacks the major efflux pump permease AcrB (E. coli KAM3; see [Hirakawa03]) does not impact the resistance to a range of antibiotics, dyes and toxic compounds [Nishino01].</td> \n",
       "    </tr>    <tr> \n",
       "        <th id=\"T_b6099142_e8fd_11e8_846e_406c8fbb9e82level1_row2\" class=\"row_heading level1 row2\" >product_type</th> \n",
       "        <td id=\"T_b6099142_e8fd_11e8_846e_406c8fbb9e82row2_col0\" class=\"data row2 col0\" >polypeptide</td> \n",
       "    </tr>    <tr> \n",
       "        <th id=\"T_b6099142_e8fd_11e8_846e_406c8fbb9e82level1_row3\" class=\"row_heading level1 row3\" >is_pseudogene</th> \n",
       "        <td id=\"T_b6099142_e8fd_11e8_846e_406c8fbb9e82row3_col0\" class=\"data row3 col0\" >f</td> \n",
       "    </tr>    <tr> \n",
       "        <th id=\"T_b6099142_e8fd_11e8_846e_406c8fbb9e82level1_row4\" class=\"row_heading level1 row4\" >is_phantom_gene</th> \n",
       "        <td id=\"T_b6099142_e8fd_11e8_846e_406c8fbb9e82row4_col0\" class=\"data row4 col0\" >f</td> \n",
       "    </tr>    <tr> \n",
       "        <th id=\"T_b6099142_e8fd_11e8_846e_406c8fbb9e82level1_row5\" class=\"row_heading level1 row5\" >is_insertion_element</th> \n",
       "        <td id=\"T_b6099142_e8fd_11e8_846e_406c8fbb9e82row5_col0\" class=\"data row5 col0\" >f</td> \n",
       "    </tr>    <tr> \n",
       "        <th id=\"T_b6099142_e8fd_11e8_846e_406c8fbb9e82level0_row6\" class=\"row_heading level0 row6\" rowspan=5>EcoGene (low)</th> \n",
       "        <th id=\"T_b6099142_e8fd_11e8_846e_406c8fbb9e82level1_row6\" class=\"row_heading level1 row6\" >protein</th> \n",
       "        <td id=\"T_b6099142_e8fd_11e8_846e_406c8fbb9e82row6_col0\" class=\"data row6 col0\" >putative transporter</td> \n",
       "    </tr>    <tr> \n",
       "        <th id=\"T_b6099142_e8fd_11e8_846e_406c8fbb9e82level1_row7\" class=\"row_heading level1 row7\" >function</th> \n",
       "        <td id=\"T_b6099142_e8fd_11e8_846e_406c8fbb9e82row7_col0\" class=\"data row7 col0\" >Putative transport; Not classified</td> \n",
       "    </tr>    <tr> \n",
       "        <th id=\"T_b6099142_e8fd_11e8_846e_406c8fbb9e82level1_row8\" class=\"row_heading level1 row8\" >description</th> \n",
       "        <td id=\"T_b6099142_e8fd_11e8_846e_406c8fbb9e82row8_col0\" class=\"data row8 col0\" >Putative transporter, function unknown; no overexpression resistances found</td> \n",
       "    </tr>    <tr> \n",
       "        <th id=\"T_b6099142_e8fd_11e8_846e_406c8fbb9e82level1_row9\" class=\"row_heading level1 row9\" >comments</th> \n",
       "        <td id=\"T_b6099142_e8fd_11e8_846e_406c8fbb9e82row9_col0\" class=\"data row9 col0\" >The crystal structure of E. coli YajR 3WDO is derived from strain BL21 and has six amino acid differences as compared to the K-12 alelle (Jiang, 2013). Major Facilitator Superfamily (MFS).</td> \n",
       "    </tr>    <tr> \n",
       "        <th id=\"T_b6099142_e8fd_11e8_846e_406c8fbb9e82level1_row10\" class=\"row_heading level1 row10\" >is_pseudogene</th> \n",
       "        <td id=\"T_b6099142_e8fd_11e8_846e_406c8fbb9e82row10_col0\" class=\"data row10 col0\" >f</td> \n",
       "    </tr>    <tr> \n",
       "        <th id=\"T_b6099142_e8fd_11e8_846e_406c8fbb9e82level0_row11\" class=\"row_heading level0 row11\" rowspan=4>UniProt (tbd)</th> \n",
       "        <th id=\"T_b6099142_e8fd_11e8_846e_406c8fbb9e82level1_row11\" class=\"row_heading level1 row11\" >upid</th> \n",
       "        <td id=\"T_b6099142_e8fd_11e8_846e_406c8fbb9e82row11_col0\" class=\"data row11 col0\" >P77726</td> \n",
       "    </tr>    <tr> \n",
       "        <th id=\"T_b6099142_e8fd_11e8_846e_406c8fbb9e82level1_row12\" class=\"row_heading level1 row12\" >protein</th> \n",
       "        <td id=\"T_b6099142_e8fd_11e8_846e_406c8fbb9e82row12_col0\" class=\"data row12 col0\" >Inner membrane transport protein YajR</td> \n",
       "    </tr>    <tr> \n",
       "        <th id=\"T_b6099142_e8fd_11e8_846e_406c8fbb9e82level1_row13\" class=\"row_heading level1 row13\" >features</th> \n",
       "        <td id=\"T_b6099142_e8fd_11e8_846e_406c8fbb9e82row13_col0\" class=\"data row13 col0\" >Chain (1); Erroneous initiation (1); Topological domain (12); Transmembrane (11)</td> \n",
       "    </tr>    <tr> \n",
       "        <th id=\"T_b6099142_e8fd_11e8_846e_406c8fbb9e82level1_row14\" class=\"row_heading level1 row14\" >annotation_score</th> \n",
       "        <td id=\"T_b6099142_e8fd_11e8_846e_406c8fbb9e82row14_col0\" class=\"data row14 col0\" >3</td> \n",
       "    </tr>    <tr> \n",
       "        <th id=\"T_b6099142_e8fd_11e8_846e_406c8fbb9e82level0_row15\" class=\"row_heading level0 row15\" rowspan=2>RefSeq (tbd)</th> \n",
       "        <th id=\"T_b6099142_e8fd_11e8_846e_406c8fbb9e82level1_row15\" class=\"row_heading level1 row15\" >product</th> \n",
       "        <td id=\"T_b6099142_e8fd_11e8_846e_406c8fbb9e82row15_col0\" class=\"data row15 col0\" >putative transporter</td> \n",
       "    </tr>    <tr> \n",
       "        <th id=\"T_b6099142_e8fd_11e8_846e_406c8fbb9e82level1_row16\" class=\"row_heading level1 row16\" >function</th> \n",
       "        <td id=\"T_b6099142_e8fd_11e8_846e_406c8fbb9e82row16_col0\" class=\"data row16 col0\" >putative transport; Not classified</td> \n",
       "    </tr>    <tr> \n",
       "        <th id=\"T_b6099142_e8fd_11e8_846e_406c8fbb9e82level0_row17\" class=\"row_heading level0 row17\" >Y-ome (low)</th> \n",
       "        <th id=\"T_b6099142_e8fd_11e8_846e_406c8fbb9e82level1_row17\" class=\"row_heading level1 row17\" >nan</th> \n",
       "        <td id=\"T_b6099142_e8fd_11e8_846e_406c8fbb9e82row17_col0\" class=\"data row17 col0\" >nan</td> \n",
       "    </tr></tbody> \n",
       "</table> "
      ],
      "text/plain": [
       "<IPython.core.display.HTML object>"
      ]
     },
     "execution_count": 8,
     "metadata": {},
     "output_type": "execute_result"
    }
   ],
   "source": [
    "report(session, 'yajR')"
   ]
  },
  {
   "cell_type": "code",
   "execution_count": null,
   "metadata": {},
   "outputs": [],
   "source": []
  }
 ],
 "metadata": {
  "kernelspec": {
   "display_name": "Python 3",
   "language": "python",
   "name": "python3"
  },
  "language_info": {
   "codemirror_mode": {
    "name": "ipython",
    "version": 3
   },
   "file_extension": ".py",
   "mimetype": "text/x-python",
   "name": "python",
   "nbconvert_exporter": "python",
   "pygments_lexer": "ipython3",
   "version": "3.6.5"
  }
 },
 "nbformat": 4,
 "nbformat_minor": 2
}
