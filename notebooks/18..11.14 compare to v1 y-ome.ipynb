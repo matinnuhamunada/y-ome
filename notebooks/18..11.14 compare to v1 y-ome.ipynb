{
 "cells": [
  {
   "cell_type": "markdown",
   "metadata": {},
   "source": [
    "# Compare y-ome annotations for new list (revised manuscript) vs. original version"
   ]
  },
  {
   "cell_type": "code",
   "execution_count": 3,
   "metadata": {},
   "outputs": [],
   "source": [
    "import pandas as pd\n",
    "import numpy as np\n",
    "from yome.util import to_df, report, scale_color, mpl_setup\n",
    "from yome import Session\n",
    "from yome.models import *\n",
    "\n",
    "session = Session()"
   ]
  },
  {
   "cell_type": "code",
   "execution_count": 4,
   "metadata": {},
   "outputs": [],
   "source": [
    "features = pd.read_table('../data/features.tsv.gz')\n",
    "\n",
    "features_v1 = pd.read_table('../data/old-versions/features.v1.tsv.gz')\n",
    "\n",
    "yome = pd.read_table('../data/yome-genes.tsv')\n",
    "\n",
    "yome_v1 = pd.read_table('../data/old-versions/yome-genes.v1.tsv')"
   ]
  },
  {
   "cell_type": "code",
   "execution_count": 5,
   "metadata": {},
   "outputs": [],
   "source": [
    "comp = yome_v1.merge(yome, on=['locus_id', 'primary_name'], suffixes=['_v1', ''])"
   ]
  },
  {
   "cell_type": "code",
   "execution_count": 9,
   "metadata": {},
   "outputs": [
    {
     "data": {
      "text/html": [
       "<div>\n",
       "<style scoped>\n",
       "    .dataframe tbody tr th:only-of-type {\n",
       "        vertical-align: middle;\n",
       "    }\n",
       "\n",
       "    .dataframe tbody tr th {\n",
       "        vertical-align: top;\n",
       "    }\n",
       "\n",
       "    .dataframe thead th {\n",
       "        text-align: right;\n",
       "    }\n",
       "</style>\n",
       "<table border=\"1\" class=\"dataframe\">\n",
       "  <thead>\n",
       "    <tr style=\"text-align: right;\">\n",
       "      <th></th>\n",
       "      <th>locus_id</th>\n",
       "      <th>primary_name</th>\n",
       "      <th>yome_v1</th>\n",
       "      <th>yome</th>\n",
       "    </tr>\n",
       "  </thead>\n",
       "  <tbody>\n",
       "    <tr>\n",
       "      <th>384</th>\n",
       "      <td>b0402</td>\n",
       "      <td>proY</td>\n",
       "      <td>no</td>\n",
       "      <td>yes</td>\n",
       "    </tr>\n",
       "    <tr>\n",
       "      <th>409</th>\n",
       "      <td>b0427</td>\n",
       "      <td>yajR</td>\n",
       "      <td>no</td>\n",
       "      <td>yes</td>\n",
       "    </tr>\n",
       "    <tr>\n",
       "      <th>1266</th>\n",
       "      <td>b1309</td>\n",
       "      <td>ycjM</td>\n",
       "      <td>yes</td>\n",
       "      <td>no</td>\n",
       "    </tr>\n",
       "    <tr>\n",
       "      <th>1273</th>\n",
       "      <td>b1316</td>\n",
       "      <td>ycjT</td>\n",
       "      <td>yes</td>\n",
       "      <td>no</td>\n",
       "    </tr>\n",
       "    <tr>\n",
       "      <th>1311</th>\n",
       "      <td>b1356</td>\n",
       "      <td>racR</td>\n",
       "      <td>yes</td>\n",
       "      <td>no</td>\n",
       "    </tr>\n",
       "    <tr>\n",
       "      <th>1416</th>\n",
       "      <td>b1470</td>\n",
       "      <td>yddJ</td>\n",
       "      <td>yes</td>\n",
       "      <td>excluded</td>\n",
       "    </tr>\n",
       "    <tr>\n",
       "      <th>2270</th>\n",
       "      <td>b2352</td>\n",
       "      <td>yfdI, gtrS</td>\n",
       "      <td>yes</td>\n",
       "      <td>no</td>\n",
       "    </tr>\n",
       "    <tr>\n",
       "      <th>2471</th>\n",
       "      <td>b2555</td>\n",
       "      <td>qseG, yfhG</td>\n",
       "      <td>yes</td>\n",
       "      <td>no</td>\n",
       "    </tr>\n",
       "    <tr>\n",
       "      <th>2757</th>\n",
       "      <td>b2855</td>\n",
       "      <td>ygeK</td>\n",
       "      <td>yes</td>\n",
       "      <td>excluded</td>\n",
       "    </tr>\n",
       "    <tr>\n",
       "      <th>2763</th>\n",
       "      <td>b2862</td>\n",
       "      <td>ygeP</td>\n",
       "      <td>yes</td>\n",
       "      <td>excluded</td>\n",
       "    </tr>\n",
       "    <tr>\n",
       "      <th>2885</th>\n",
       "      <td>b2991</td>\n",
       "      <td>hybF</td>\n",
       "      <td>yes</td>\n",
       "      <td>no</td>\n",
       "    </tr>\n",
       "    <tr>\n",
       "      <th>3911</th>\n",
       "      <td>b4061</td>\n",
       "      <td>pdeC, yjcC</td>\n",
       "      <td>yes</td>\n",
       "      <td>no</td>\n",
       "    </tr>\n",
       "    <tr>\n",
       "      <th>4033</th>\n",
       "      <td>b4188</td>\n",
       "      <td>yjfN</td>\n",
       "      <td>yes</td>\n",
       "      <td>no</td>\n",
       "    </tr>\n",
       "    <tr>\n",
       "      <th>4148</th>\n",
       "      <td>b4309</td>\n",
       "      <td>nanS</td>\n",
       "      <td>yes</td>\n",
       "      <td>no</td>\n",
       "    </tr>\n",
       "    <tr>\n",
       "      <th>4377</th>\n",
       "      <td>b4575</td>\n",
       "      <td>yjgX</td>\n",
       "      <td>yes</td>\n",
       "      <td>excluded</td>\n",
       "    </tr>\n",
       "    <tr>\n",
       "      <th>4479</th>\n",
       "      <td>b4702</td>\n",
       "      <td>mgtL</td>\n",
       "      <td>yes</td>\n",
       "      <td>no</td>\n",
       "    </tr>\n",
       "  </tbody>\n",
       "</table>\n",
       "</div>"
      ],
      "text/plain": [
       "     locus_id primary_name yome_v1      yome\n",
       "384     b0402         proY      no       yes\n",
       "409     b0427         yajR      no       yes\n",
       "1266    b1309         ycjM     yes        no\n",
       "1273    b1316         ycjT     yes        no\n",
       "1311    b1356         racR     yes        no\n",
       "1416    b1470         yddJ     yes  excluded\n",
       "2270    b2352   yfdI, gtrS     yes        no\n",
       "2471    b2555   qseG, yfhG     yes        no\n",
       "2757    b2855         ygeK     yes  excluded\n",
       "2763    b2862         ygeP     yes  excluded\n",
       "2885    b2991         hybF     yes        no\n",
       "3911    b4061   pdeC, yjcC     yes        no\n",
       "4033    b4188         yjfN     yes        no\n",
       "4148    b4309         nanS     yes        no\n",
       "4377    b4575         yjgX     yes  excluded\n",
       "4479    b4702         mgtL     yes        no"
      ]
     },
     "execution_count": 9,
     "metadata": {},
     "output_type": "execute_result"
    }
   ],
   "source": [
    "res = comp[(comp.yome != comp.yome_v1) & (comp.yome != 'tbd') & (comp.yome_v1 != 'excluded')]\n",
    "res"
   ]
  },
  {
   "cell_type": "code",
   "execution_count": 11,
   "metadata": {},
   "outputs": [
    {
     "data": {
      "text/plain": [
       "'proY, yajR, ycjM, ycjT, racR, yddJ, yfdI, gtrS, qseG, yfhG, ygeK, ygeP, hybF, pdeC, yjcC, yjfN, nanS, yjgX, mgtL'"
      ]
     },
     "execution_count": 11,
     "metadata": {},
     "output_type": "execute_result"
    }
   ],
   "source": [
    "', '.join(list(res.primary_name.values))"
   ]
  },
  {
   "cell_type": "code",
   "execution_count": null,
   "metadata": {},
   "outputs": [],
   "source": []
  }
 ],
 "metadata": {
  "kernelspec": {
   "display_name": "Python 3",
   "language": "python",
   "name": "python3"
  },
  "language_info": {
   "codemirror_mode": {
    "name": "ipython",
    "version": 3
   },
   "file_extension": ".py",
   "mimetype": "text/x-python",
   "name": "python",
   "nbconvert_exporter": "python",
   "pygments_lexer": "ipython3",
   "version": "3.6.5"
  }
 },
 "nbformat": 4,
 "nbformat_minor": 2
}
