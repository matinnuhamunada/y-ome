{
 "cells": [
  {
   "cell_type": "code",
   "execution_count": 5,
   "metadata": {},
   "outputs": [],
   "source": [
    "import json\n",
    "import pandas as pd\n",
    "import numpy as np\n",
    "from yome import Session\n",
    "from yome.models import *\n",
    "from yome.util import to_df, report, mpl_setup\n",
    "import re\n",
    "from sqlalchemy import or_, and_\n",
    "from sqlalchemy.orm import aliased\n",
    "import itertools as it\n",
    "import seaborn as sns"
   ]
  },
  {
   "cell_type": "code",
   "execution_count": 6,
   "metadata": {},
   "outputs": [
    {
     "name": "stdout",
     "output_type": "stream",
     "text": [
      "Populating the interactive namespace from numpy and matplotlib\n"
     ]
    }
   ],
   "source": [
    "%mpl_setup"
   ]
  },
  {
   "cell_type": "code",
   "execution_count": 7,
   "metadata": {},
   "outputs": [],
   "source": [
    "session = Session()"
   ]
  },
  {
   "cell_type": "code",
   "execution_count": 8,
   "metadata": {},
   "outputs": [
    {
     "name": "stdout",
     "output_type": "stream",
     "text": [
      "locus_id        b3026\n",
      "primary_name     qseC\n",
      "Name: 0, dtype: object\n"
     ]
    },
    {
     "data": {
      "text/html": [
       "<style  type=\"text/css\" >\n",
       "    #T_3b723152_4f18_11e8_98a3_f40f2426b15frow0_col0 {\n",
       "            text-align:  left;\n",
       "        }    #T_3b723152_4f18_11e8_98a3_f40f2426b15frow1_col0 {\n",
       "            text-align:  left;\n",
       "        }    #T_3b723152_4f18_11e8_98a3_f40f2426b15frow2_col0 {\n",
       "            text-align:  left;\n",
       "        }    #T_3b723152_4f18_11e8_98a3_f40f2426b15frow3_col0 {\n",
       "            text-align:  left;\n",
       "        }    #T_3b723152_4f18_11e8_98a3_f40f2426b15frow4_col0 {\n",
       "            text-align:  left;\n",
       "        }    #T_3b723152_4f18_11e8_98a3_f40f2426b15frow5_col0 {\n",
       "            text-align:  left;\n",
       "        }    #T_3b723152_4f18_11e8_98a3_f40f2426b15frow6_col0 {\n",
       "            text-align:  left;\n",
       "        }    #T_3b723152_4f18_11e8_98a3_f40f2426b15frow7_col0 {\n",
       "            text-align:  left;\n",
       "        }    #T_3b723152_4f18_11e8_98a3_f40f2426b15frow8_col0 {\n",
       "            text-align:  left;\n",
       "        }    #T_3b723152_4f18_11e8_98a3_f40f2426b15frow9_col0 {\n",
       "            text-align:  left;\n",
       "        }    #T_3b723152_4f18_11e8_98a3_f40f2426b15frow10_col0 {\n",
       "            text-align:  left;\n",
       "        }    #T_3b723152_4f18_11e8_98a3_f40f2426b15frow11_col0 {\n",
       "            text-align:  left;\n",
       "        }    #T_3b723152_4f18_11e8_98a3_f40f2426b15frow12_col0 {\n",
       "            text-align:  left;\n",
       "        }    #T_3b723152_4f18_11e8_98a3_f40f2426b15frow13_col0 {\n",
       "            text-align:  left;\n",
       "        }    #T_3b723152_4f18_11e8_98a3_f40f2426b15frow14_col0 {\n",
       "            text-align:  left;\n",
       "        }    #T_3b723152_4f18_11e8_98a3_f40f2426b15frow15_col0 {\n",
       "            text-align:  left;\n",
       "        }    #T_3b723152_4f18_11e8_98a3_f40f2426b15frow16_col0 {\n",
       "            text-align:  left;\n",
       "        }    #T_3b723152_4f18_11e8_98a3_f40f2426b15frow17_col0 {\n",
       "            text-align:  left;\n",
       "        }    #T_3b723152_4f18_11e8_98a3_f40f2426b15frow18_col0 {\n",
       "            text-align:  left;\n",
       "        }    #T_3b723152_4f18_11e8_98a3_f40f2426b15frow19_col0 {\n",
       "            text-align:  left;\n",
       "        }    #T_3b723152_4f18_11e8_98a3_f40f2426b15frow20_col0 {\n",
       "            text-align:  left;\n",
       "        }    #T_3b723152_4f18_11e8_98a3_f40f2426b15frow21_col0 {\n",
       "            text-align:  left;\n",
       "        }</style>  \n",
       "<table id=\"T_3b723152_4f18_11e8_98a3_f40f2426b15f\" > \n",
       "<thead>    <tr> \n",
       "        <th class=\"blank\" ></th> \n",
       "        <th class=\"blank level0\" ></th> \n",
       "        <th class=\"col_heading level0 col0\" >feature</th> \n",
       "    </tr>    <tr> \n",
       "        <th class=\"index_name level0\" >knowledgebase_name</th> \n",
       "        <th class=\"index_name level1\" >feature_type</th> \n",
       "        <th class=\"blank\" ></th> \n",
       "    </tr></thead> \n",
       "<tbody>    <tr> \n",
       "        <th id=\"T_3b723152_4f18_11e8_98a3_f40f2426b15flevel0_row0\" class=\"row_heading level0 row0\" rowspan=8>EcoCyc (high)</th> \n",
       "        <th id=\"T_3b723152_4f18_11e8_98a3_f40f2426b15flevel1_row0\" class=\"row_heading level1 row0\" >description</th> \n",
       "        <td id=\"T_3b723152_4f18_11e8_98a3_f40f2426b15frow0_col0\" class=\"data row0 col0\" >sensory histidine kinase QseC</td> \n",
       "    </tr>    <tr> \n",
       "        <th id=\"T_3b723152_4f18_11e8_98a3_f40f2426b15flevel1_row1\" class=\"row_heading level1 row1\" >summary_html</th> \n",
       "        <td id=\"T_3b723152_4f18_11e8_98a3_f40f2426b15frow1_col0\" class=\"data row1 col0\" >SummaryQseC is the sensor kinase component of the QseB-QseC two-component system, which is one component of the quorum-sensing regulatory cascade involved in the regulation of flagella and motility genes.  QseBC modulates transcription of flhDC, the master regulator for flagella and motility genes [Sperandio02].A transposon insertion mutant in qseC is more susceptible to pyrazinoic acid [Schaller02]; qseBC mutants show hypersensitivity to several toxic cations [Zhou03b].qseC: \"quorum-sensing E. coli regulator C\" [Sperandio02]A site for RbsR in negatively controlling the qseC gene was identified based on genomic Selex analysis with the absolute center positions in the genome at position 3168522.5 and with the palindromic octanucleotide sequence TTtAcccAACGTcTtaGTcT [Shimada13b].  Additional Citations: \n",
       "[Clarke05]  </td> \n",
       "    </tr>    <tr> \n",
       "        <th id=\"T_3b723152_4f18_11e8_98a3_f40f2426b15flevel1_row2\" class=\"row_heading level1 row2\" >product_type</th> \n",
       "        <td id=\"T_3b723152_4f18_11e8_98a3_f40f2426b15frow2_col0\" class=\"data row2 col0\" >polypeptide</td> \n",
       "    </tr>    <tr> \n",
       "        <th id=\"T_3b723152_4f18_11e8_98a3_f40f2426b15flevel1_row3\" class=\"row_heading level1 row3\" >reaction_equation</th> \n",
       "        <td id=\"T_3b723152_4f18_11e8_98a3_f40f2426b15frow3_col0\" class=\"data row3 col0\" >QseC + ATP  →  sensory histidine kinase QseC - phosphorylated + ADP</td> \n",
       "    </tr>    <tr> \n",
       "        <th id=\"T_3b723152_4f18_11e8_98a3_f40f2426b15flevel1_row4\" class=\"row_heading level1 row4\" >is_pseudogene</th> \n",
       "        <td id=\"T_3b723152_4f18_11e8_98a3_f40f2426b15frow4_col0\" class=\"data row4 col0\" >f</td> \n",
       "    </tr>    <tr> \n",
       "        <th id=\"T_3b723152_4f18_11e8_98a3_f40f2426b15flevel1_row5\" class=\"row_heading level1 row5\" >is_phantom_gene</th> \n",
       "        <td id=\"T_3b723152_4f18_11e8_98a3_f40f2426b15frow5_col0\" class=\"data row5 col0\" >f</td> \n",
       "    </tr>    <tr> \n",
       "        <th id=\"T_3b723152_4f18_11e8_98a3_f40f2426b15flevel1_row6\" class=\"row_heading level1 row6\" >evidence_html</th> \n",
       "        <td id=\"T_3b723152_4f18_11e8_98a3_f40f2426b15frow6_col0\" class=\"data row6 col0\" >\n",
       "\n",
       "\n",
       "\n",
       "\n",
       "Inferred from expression pattern [Sperandio02]Human inference of function from sequence [Sperandio02]\n",
       "\n",
       "</td> \n",
       "    </tr>    <tr> \n",
       "        <th id=\"T_3b723152_4f18_11e8_98a3_f40f2426b15flevel1_row7\" class=\"row_heading level1 row7\" >is_insertion_element</th> \n",
       "        <td id=\"T_3b723152_4f18_11e8_98a3_f40f2426b15frow7_col0\" class=\"data row7 col0\" >f</td> \n",
       "    </tr>    <tr> \n",
       "        <th id=\"T_3b723152_4f18_11e8_98a3_f40f2426b15flevel0_row8\" class=\"row_heading level0 row8\" rowspan=5>EcoGene (tbd)</th> \n",
       "        <th id=\"T_3b723152_4f18_11e8_98a3_f40f2426b15flevel1_row8\" class=\"row_heading level1 row8\" >protein</th> \n",
       "        <td id=\"T_3b723152_4f18_11e8_98a3_f40f2426b15frow8_col0\" class=\"data row8 col0\" >quorum sensing sensory histidine kinase in two-component regulatory system with QseB</td> \n",
       "    </tr>    <tr> \n",
       "        <th id=\"T_3b723152_4f18_11e8_98a3_f40f2426b15flevel1_row9\" class=\"row_heading level1 row9\" >function</th> \n",
       "        <td id=\"T_3b723152_4f18_11e8_98a3_f40f2426b15frow9_col0\" class=\"data row9 col0\" >Null</td> \n",
       "    </tr>    <tr> \n",
       "        <th id=\"T_3b723152_4f18_11e8_98a3_f40f2426b15flevel1_row10\" class=\"row_heading level1 row10\" >description</th> \n",
       "        <td id=\"T_3b723152_4f18_11e8_98a3_f40f2426b15frow10_col0\" class=\"data row10 col0\" >Quorum sensing two-component sensor kinase; cognate to QseB response regulator; regulates flagella synthesis and motilty by activating transcription of flhDC; responds to AI-3 and </td> \n",
       "    </tr>    <tr> \n",
       "        <th id=\"T_3b723152_4f18_11e8_98a3_f40f2426b15flevel1_row11\" class=\"row_heading level1 row11\" >comments</th> \n",
       "        <td id=\"T_3b723152_4f18_11e8_98a3_f40f2426b15frow11_col0\" class=\"data row11 col0\" >Characterized in an EHEC strain, QseC has been shown to respond and bind to AI-3 and AI-3-cross signaling human hormones epinephrine and norepinephrine (Clarke, 2006). A mutant qseC confers sensitivity to pyrazinoic acid.</td> \n",
       "    </tr>    <tr> \n",
       "        <th id=\"T_3b723152_4f18_11e8_98a3_f40f2426b15flevel1_row12\" class=\"row_heading level1 row12\" >is_pseudogene</th> \n",
       "        <td id=\"T_3b723152_4f18_11e8_98a3_f40f2426b15frow12_col0\" class=\"data row12 col0\" >f</td> \n",
       "    </tr>    <tr> \n",
       "        <th id=\"T_3b723152_4f18_11e8_98a3_f40f2426b15flevel0_row13\" class=\"row_heading level0 row13\" rowspan=7>UniProt (high)</th> \n",
       "        <th id=\"T_3b723152_4f18_11e8_98a3_f40f2426b15flevel1_row13\" class=\"row_heading level1 row13\" >upid</th> \n",
       "        <td id=\"T_3b723152_4f18_11e8_98a3_f40f2426b15frow13_col0\" class=\"data row13 col0\" >P40719</td> \n",
       "    </tr>    <tr> \n",
       "        <th id=\"T_3b723152_4f18_11e8_98a3_f40f2426b15flevel1_row14\" class=\"row_heading level1 row14\" >protein</th> \n",
       "        <td id=\"T_3b723152_4f18_11e8_98a3_f40f2426b15frow14_col0\" class=\"data row14 col0\" >Sensor protein QseC (EC 2.7.13.3)</td> \n",
       "    </tr>    <tr> \n",
       "        <th id=\"T_3b723152_4f18_11e8_98a3_f40f2426b15flevel1_row15\" class=\"row_heading level1 row15\" >ec_number</th> \n",
       "        <td id=\"T_3b723152_4f18_11e8_98a3_f40f2426b15frow15_col0\" class=\"data row15 col0\" >2.7.13.3</td> \n",
       "    </tr>    <tr> \n",
       "        <th id=\"T_3b723152_4f18_11e8_98a3_f40f2426b15flevel1_row16\" class=\"row_heading level1 row16\" >reaction</th> \n",
       "        <td id=\"T_3b723152_4f18_11e8_98a3_f40f2426b15frow16_col0\" class=\"data row16 col0\" >CATALYTIC ACTIVITY: ATP + protein L-histidine = ADP + protein N-phospho-L-histidine.</td> \n",
       "    </tr>    <tr> \n",
       "        <th id=\"T_3b723152_4f18_11e8_98a3_f40f2426b15flevel1_row17\" class=\"row_heading level1 row17\" >function</th> \n",
       "        <td id=\"T_3b723152_4f18_11e8_98a3_f40f2426b15frow17_col0\" class=\"data row17 col0\" >FUNCTION: Member of a two-component regulatory system QseB/QseC. Activates the flagella regulon by activating transcription of FlhDC. May activate QseB by phosphorylation. {ECO:0000269|PubMed:11929534}.</td> \n",
       "    </tr>    <tr> \n",
       "        <th id=\"T_3b723152_4f18_11e8_98a3_f40f2426b15flevel1_row18\" class=\"row_heading level1 row18\" >features</th> \n",
       "        <td id=\"T_3b723152_4f18_11e8_98a3_f40f2426b15frow18_col0\" class=\"data row18 col0\" >Beta strand (8); Chain (1); Domain (1); Helix (6); Modified residue (1); Topological domain (3); Transmembrane (2); Turn (1)</td> \n",
       "    </tr>    <tr> \n",
       "        <th id=\"T_3b723152_4f18_11e8_98a3_f40f2426b15flevel1_row19\" class=\"row_heading level1 row19\" >annotation_score</th> \n",
       "        <td id=\"T_3b723152_4f18_11e8_98a3_f40f2426b15frow19_col0\" class=\"data row19 col0\" >4</td> \n",
       "    </tr>    <tr> \n",
       "        <th id=\"T_3b723152_4f18_11e8_98a3_f40f2426b15flevel0_row20\" class=\"row_heading level0 row20\" >RefSeq (tbd)</th> \n",
       "        <th id=\"T_3b723152_4f18_11e8_98a3_f40f2426b15flevel1_row20\" class=\"row_heading level1 row20\" >product</th> \n",
       "        <td id=\"T_3b723152_4f18_11e8_98a3_f40f2426b15frow20_col0\" class=\"data row20 col0\" >quorum sensing sensory histidine kinase in two-component regulatory system with QseB</td> \n",
       "    </tr>    <tr> \n",
       "        <th id=\"T_3b723152_4f18_11e8_98a3_f40f2426b15flevel0_row21\" class=\"row_heading level0 row21\" >Y-ome (high)</th> \n",
       "        <th id=\"T_3b723152_4f18_11e8_98a3_f40f2426b15flevel1_row21\" class=\"row_heading level1 row21\" >nan</th> \n",
       "        <td id=\"T_3b723152_4f18_11e8_98a3_f40f2426b15frow21_col0\" class=\"data row21 col0\" >nan</td> \n",
       "    </tr></tbody> \n",
       "</table> "
      ],
      "text/plain": [
       "<IPython.core.display.HTML object>"
      ]
     },
     "execution_count": 8,
     "metadata": {},
     "output_type": "execute_result"
    }
   ],
   "source": [
    "report(session, 'b3026')"
   ]
  },
  {
   "cell_type": "markdown",
   "metadata": {},
   "source": [
    "# Load putative transporter list from ecocyc"
   ]
  },
  {
   "cell_type": "code",
   "execution_count": 4,
   "metadata": {},
   "outputs": [],
   "source": [
    "ec_putative_transporters = pd.read_table('../sources/ecocyc/ecocyc-putative-inner-membrane-transporters.tsv', header=0)"
   ]
  },
  {
   "cell_type": "code",
   "execution_count": 5,
   "metadata": {},
   "outputs": [
    {
     "data": {
      "text/plain": [
       "163"
      ]
     },
     "execution_count": 5,
     "metadata": {},
     "output_type": "execute_result"
    }
   ],
   "source": [
    "len(ec_putative_transporters)"
   ]
  },
  {
   "cell_type": "code",
   "execution_count": 6,
   "metadata": {},
   "outputs": [
    {
     "data": {
      "text/html": [
       "<div>\n",
       "<style scoped>\n",
       "    .dataframe tbody tr th:only-of-type {\n",
       "        vertical-align: middle;\n",
       "    }\n",
       "\n",
       "    .dataframe tbody tr th {\n",
       "        vertical-align: top;\n",
       "    }\n",
       "\n",
       "    .dataframe thead th {\n",
       "        text-align: right;\n",
       "    }\n",
       "</style>\n",
       "<table border=\"1\" class=\"dataframe\">\n",
       "  <thead>\n",
       "    <tr style=\"text-align: right;\">\n",
       "      <th></th>\n",
       "      <th>primary_name</th>\n",
       "      <th>gene_product</th>\n",
       "    </tr>\n",
       "  </thead>\n",
       "  <tbody>\n",
       "  </tbody>\n",
       "</table>\n",
       "</div>"
      ],
      "text/plain": [
       "Empty DataFrame\n",
       "Columns: [primary_name, gene_product]\n",
       "Index: []"
      ]
     },
     "execution_count": 6,
     "metadata": {},
     "output_type": "execute_result"
    }
   ],
   "source": [
    "ec_putative_transporters[ec_putative_transporters.duplicated(subset='primary_name')]"
   ]
  },
  {
   "cell_type": "markdown",
   "metadata": {},
   "source": [
    "# Get db Y-ome transporters"
   ]
  },
  {
   "cell_type": "code",
   "execution_count": 7,
   "metadata": {},
   "outputs": [],
   "source": [
    "transporter_summary_html_strings = [\n",
    "    'is a member of the Multi Antimicrobial Extrusion (MATE) Family of transporters',\n",
    "]\n",
    "transporter_strings = [\n",
    "    'transporter',\n",
    "    'antiporter',\n",
    "    'exporter',\n",
    "    'permease',\n",
    "    'transport protein',\n",
    "    'PTS enzyme',\n",
    "    'efflux pump',\n",
    "]"
   ]
  },
  {
   "cell_type": "code",
   "execution_count": 8,
   "metadata": {},
   "outputs": [],
   "source": [
    "Knowledgebase2 = aliased(Knowledgebase)\n",
    "KnowledgebaseGene2 = aliased(KnowledgebaseGene)\n",
    "KnowledgebaseFeature2 = aliased(KnowledgebaseFeature)"
   ]
  },
  {
   "cell_type": "code",
   "execution_count": 9,
   "metadata": {},
   "outputs": [],
   "source": [
    "transporters = to_df(\n",
    "    session.query(\n",
    "        Gene.locus_id,\n",
    "        KnowledgebaseGene.primary_name,\n",
    "        KnowledgebaseFeature.feature,\n",
    "        Knowledgebase2.name,\n",
    "        KnowledgebaseGene2.annotation_quality\n",
    "    )\n",
    "    .join(KnowledgebaseGene, KnowledgebaseGene.gene_id == Gene.id)\n",
    "    .join(Knowledgebase, Knowledgebase.id == KnowledgebaseGene.knowledgebase_id)\n",
    "    .join(KnowledgebaseFeature, KnowledgebaseFeature.knowledgebase_gene_id == KnowledgebaseGene.id)\n",
    "    .filter(or_(\n",
    "        and_(\n",
    "            or_(*[KnowledgebaseFeature.feature.ilike(f'%{x}%') for x in transporter_strings]),\n",
    "            KnowledgebaseFeature.feature_type.notin_(['summary_html']),\n",
    "        ),\n",
    "        and_(\n",
    "            or_(*[KnowledgebaseFeature.feature.ilike(f'%{x}%') for x in transporter_summary_html_strings]),\n",
    "            KnowledgebaseFeature.feature_type == 'summary_html',\n",
    "        ),\n",
    "    ))\n",
    "    .join(KnowledgebaseGene2, KnowledgebaseGene2.gene_id == Gene.id)\n",
    "    .join(Knowledgebase2, Knowledgebase2.id == KnowledgebaseGene2.knowledgebase_id)\n",
    "    .filter(Knowledgebase2.name == 'Y-ome')\n",
    "    .filter(KnowledgebaseGene2.annotation_quality == 'low')\n",
    ")"
   ]
  },
  {
   "cell_type": "code",
   "execution_count": 10,
   "metadata": {},
   "outputs": [],
   "source": [
    "transporters_ar = (\n",
    "    transporters\n",
    "    .groupby('primary_name')\n",
    "    .agg(lambda x: list(x))\n",
    "    .drop(['locus_id', 'name', 'annotation_quality'], axis=1)\n",
    ")"
   ]
  },
  {
   "cell_type": "code",
   "execution_count": 11,
   "metadata": {},
   "outputs": [
    {
     "data": {
      "text/plain": [
       "220"
      ]
     },
     "execution_count": 11,
     "metadata": {},
     "output_type": "execute_result"
    }
   ],
   "source": [
    "len(transporters_ar)"
   ]
  },
  {
   "cell_type": "code",
   "execution_count": 12,
   "metadata": {},
   "outputs": [
    {
     "data": {
      "text/plain": [
       "False"
      ]
     },
     "execution_count": 12,
     "metadata": {},
     "output_type": "execute_result"
    }
   ],
   "source": [
    "'ydaN' in transporters_ar.index"
   ]
  },
  {
   "cell_type": "markdown",
   "metadata": {},
   "source": [
    "# Merge"
   ]
  },
  {
   "cell_type": "code",
   "execution_count": 13,
   "metadata": {},
   "outputs": [],
   "source": [
    "merged = transporters_ar.merge(ec_putative_transporters, how='outer', left_index=True, right_on='primary_name')"
   ]
  },
  {
   "cell_type": "code",
   "execution_count": 14,
   "metadata": {},
   "outputs": [
    {
     "data": {
      "text/html": [
       "<div>\n",
       "<style scoped>\n",
       "    .dataframe tbody tr th:only-of-type {\n",
       "        vertical-align: middle;\n",
       "    }\n",
       "\n",
       "    .dataframe tbody tr th {\n",
       "        vertical-align: top;\n",
       "    }\n",
       "\n",
       "    .dataframe thead th {\n",
       "        text-align: right;\n",
       "    }\n",
       "</style>\n",
       "<table border=\"1\" class=\"dataframe\">\n",
       "  <thead>\n",
       "    <tr style=\"text-align: right;\">\n",
       "      <th></th>\n",
       "      <th>feature</th>\n",
       "      <th>primary_name</th>\n",
       "      <th>gene_product</th>\n",
       "    </tr>\n",
       "  </thead>\n",
       "  <tbody>\n",
       "    <tr>\n",
       "      <th>162</th>\n",
       "      <td>[DUF1656 family putative inner membrane efflux...</td>\n",
       "      <td>aaeX</td>\n",
       "      <td>NaN</td>\n",
       "    </tr>\n",
       "    <tr>\n",
       "      <th>162</th>\n",
       "      <td>[CP4-6 prophage; ABC transporter ATP-binding p...</td>\n",
       "      <td>afuC</td>\n",
       "      <td>NaN</td>\n",
       "    </tr>\n",
       "    <tr>\n",
       "      <th>162</th>\n",
       "      <td>[L-asparagine transporter, transporter, L-aspa...</td>\n",
       "      <td>ansP</td>\n",
       "      <td>NaN</td>\n",
       "    </tr>\n",
       "    <tr>\n",
       "      <th>0</th>\n",
       "      <td>[putative major facilitator superfamily transp...</td>\n",
       "      <td>araJ</td>\n",
       "      <td>putative major facilitator superfamily transpo...</td>\n",
       "    </tr>\n",
       "    <tr>\n",
       "      <th>162</th>\n",
       "      <td>[putative ABC transporter periplasmic binding ...</td>\n",
       "      <td>artI</td>\n",
       "      <td>NaN</td>\n",
       "    </tr>\n",
       "  </tbody>\n",
       "</table>\n",
       "</div>"
      ],
      "text/plain": [
       "                                               feature primary_name  \\\n",
       "162  [DUF1656 family putative inner membrane efflux...         aaeX   \n",
       "162  [CP4-6 prophage; ABC transporter ATP-binding p...         afuC   \n",
       "162  [L-asparagine transporter, transporter, L-aspa...         ansP   \n",
       "0    [putative major facilitator superfamily transp...         araJ   \n",
       "162  [putative ABC transporter periplasmic binding ...         artI   \n",
       "\n",
       "                                          gene_product  \n",
       "162                                                NaN  \n",
       "162                                                NaN  \n",
       "162                                                NaN  \n",
       "0    putative major facilitator superfamily transpo...  \n",
       "162                                                NaN  "
      ]
     },
     "execution_count": 14,
     "metadata": {},
     "output_type": "execute_result"
    }
   ],
   "source": [
    "merged.head()"
   ]
  },
  {
   "cell_type": "code",
   "execution_count": 15,
   "metadata": {},
   "outputs": [
    {
     "name": "stdout",
     "output_type": "stream",
     "text": [
      "163\n"
     ]
    }
   ],
   "source": [
    "print(len(merged[~merged.gene_product.isnull()]))"
   ]
  },
  {
   "cell_type": "code",
   "execution_count": 16,
   "metadata": {},
   "outputs": [
    {
     "name": "stdout",
     "output_type": "stream",
     "text": [
      "220\n"
     ]
    }
   ],
   "source": [
    "print(len(merged[~merged.feature.isnull()]))"
   ]
  },
  {
   "cell_type": "code",
   "execution_count": 17,
   "metadata": {},
   "outputs": [
    {
     "data": {
      "text/plain": [
       "124"
      ]
     },
     "execution_count": 17,
     "metadata": {},
     "output_type": "execute_result"
    }
   ],
   "source": [
    "len(merged[~merged.gene_product.isnull() & ~merged.feature.isnull()])"
   ]
  },
  {
   "cell_type": "code",
   "execution_count": 18,
   "metadata": {},
   "outputs": [
    {
     "data": {
      "text/plain": [
       "0"
      ]
     },
     "execution_count": 18,
     "metadata": {},
     "output_type": "execute_result"
    }
   ],
   "source": [
    "len(merged[merged.gene_product.isnull() & merged.feature.isnull()])"
   ]
  },
  {
   "cell_type": "markdown",
   "metadata": {},
   "source": [
    "# set up for export"
   ]
  },
  {
   "cell_type": "markdown",
   "metadata": {},
   "source": [
    "NOTES\n",
    "- b3682 / glvB excluded as pseudogene\n",
    "- b1342 / ydaN evidence from EcoCyc makes this not in the Y-ome \"Assay of unpurified protein [Worlock02]\"\n",
    "- might want to pull some out like b4662 / sgrT"
   ]
  },
  {
   "cell_type": "code",
   "execution_count": 19,
   "metadata": {},
   "outputs": [
    {
     "data": {
      "text/html": [
       "<div>\n",
       "<style scoped>\n",
       "    .dataframe tbody tr th:only-of-type {\n",
       "        vertical-align: middle;\n",
       "    }\n",
       "\n",
       "    .dataframe tbody tr th {\n",
       "        vertical-align: top;\n",
       "    }\n",
       "\n",
       "    .dataframe thead th {\n",
       "        text-align: right;\n",
       "    }\n",
       "</style>\n",
       "<table border=\"1\" class=\"dataframe\">\n",
       "  <thead>\n",
       "    <tr style=\"text-align: right;\">\n",
       "      <th></th>\n",
       "      <th>locus_tag</th>\n",
       "      <th>primary_name</th>\n",
       "      <th>matched_features</th>\n",
       "    </tr>\n",
       "  </thead>\n",
       "  <tbody>\n",
       "    <tr>\n",
       "      <th>0</th>\n",
       "      <td>b0007</td>\n",
       "      <td>yaaJ</td>\n",
       "      <td>putative alanine/glycine:cation symporter fami...</td>\n",
       "    </tr>\n",
       "    <tr>\n",
       "      <th>1</th>\n",
       "      <td>b0045</td>\n",
       "      <td>yaaU</td>\n",
       "      <td>putative major facilitator superfamily transpo...</td>\n",
       "    </tr>\n",
       "    <tr>\n",
       "      <th>2</th>\n",
       "      <td>b0106</td>\n",
       "      <td>hofC</td>\n",
       "      <td>Protein transport protein HofC homolog</td>\n",
       "    </tr>\n",
       "    <tr>\n",
       "      <th>3</th>\n",
       "      <td>b0107</td>\n",
       "      <td>hofB</td>\n",
       "      <td>Protein transport protein HofB homolog</td>\n",
       "    </tr>\n",
       "    <tr>\n",
       "      <th>4</th>\n",
       "      <td>b0127</td>\n",
       "      <td>yadG</td>\n",
       "      <td>putative ABC transporter ATP-binding protein Y...</td>\n",
       "    </tr>\n",
       "  </tbody>\n",
       "</table>\n",
       "</div>"
      ],
      "text/plain": [
       "  locus_tag primary_name                                   matched_features\n",
       "0     b0007         yaaJ  putative alanine/glycine:cation symporter fami...\n",
       "1     b0045         yaaU  putative major facilitator superfamily transpo...\n",
       "2     b0106         hofC             Protein transport protein HofC homolog\n",
       "3     b0107         hofB             Protein transport protein HofB homolog\n",
       "4     b0127         yadG  putative ABC transporter ATP-binding protein Y..."
      ]
     },
     "execution_count": 19,
     "metadata": {},
     "output_type": "execute_result"
    }
   ],
   "source": [
    "yome_transporters = (\n",
    "    transporters\n",
    "    .groupby('locus_id')\n",
    "    .agg(lambda x: list(x))\n",
    "    .drop(['name', 'annotation_quality'], axis=1)\n",
    "    .reset_index()\n",
    "    .rename(columns={'locus_id': 'locus_tag', 'feature': 'matched_features'})\n",
    ")\n",
    "yome_transporters.primary_name = yome_transporters.primary_name.apply(lambda x: x[0])\n",
    "yome_transporters.matched_features = yome_transporters.matched_features.apply(lambda x: '; '.join(x))\n",
    "yome_transporters.head()"
   ]
  },
  {
   "cell_type": "code",
   "execution_count": 21,
   "metadata": {},
   "outputs": [],
   "source": [
    "yome_transporters.to_csv('../data/yome-transporters.tsv', sep='\\t', index=False)"
   ]
  },
  {
   "cell_type": "code",
   "execution_count": null,
   "metadata": {},
   "outputs": [],
   "source": []
  }
 ],
 "metadata": {
  "kernelspec": {
   "display_name": "Python 3",
   "language": "python",
   "name": "python3"
  },
  "language_info": {
   "codemirror_mode": {
    "name": "ipython",
    "version": 3
   },
   "file_extension": ".py",
   "mimetype": "text/x-python",
   "name": "python",
   "nbconvert_exporter": "python",
   "pygments_lexer": "ipython3",
   "version": "3.7.0"
  }
 },
 "nbformat": 4,
 "nbformat_minor": 2
}
