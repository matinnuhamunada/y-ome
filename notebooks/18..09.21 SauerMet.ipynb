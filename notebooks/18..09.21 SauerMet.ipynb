{
 "cells": [
  {
   "cell_type": "markdown",
   "metadata": {},
   "source": [
    "https://docs.google.com/document/d/1iHS3AkmFTBpOgzQhMffH-rxfxiCenWmmkn7BZz4oXoM/edit"
   ]
  },
  {
   "cell_type": "code",
   "execution_count": 37,
   "metadata": {},
   "outputs": [],
   "source": [
    "import pandas as pd\n",
    "import seaborn as sns\n",
    "from sqlalchemy.orm import aliased\n",
    "\n",
    "from yome import Session\n",
    "from yome.models import *\n",
    "from yome.util import to_df, report, scale_color, mpl_setup\n",
    "from yome.constants import colors, hatches_by_number"
   ]
  },
  {
   "cell_type": "code",
   "execution_count": 10,
   "metadata": {},
   "outputs": [
    {
     "name": "stdout",
     "output_type": "stream",
     "text": [
      "Populating the interactive namespace from numpy and matplotlib\n"
     ]
    }
   ],
   "source": [
    "%mpl_setup"
   ]
  },
  {
   "cell_type": "code",
   "execution_count": 11,
   "metadata": {},
   "outputs": [],
   "source": [
    "sns.set_style('ticks')"
   ]
  },
  {
   "cell_type": "code",
   "execution_count": 12,
   "metadata": {},
   "outputs": [],
   "source": [
    "session = Session()"
   ]
  },
  {
   "cell_type": "markdown",
   "metadata": {},
   "source": [
    "# SauerMet"
   ]
  },
  {
   "cell_type": "markdown",
   "metadata": {},
   "source": [
    "This folder contains analysis of data e-mailed to us from this paper: http://www.nature.com/nmeth/journal/v14/n2/abs/nmeth.4103.html?foxtrotcallback=true\n",
    "\n",
    "Run through the SauerMet_analysis.ipynb to read key stats and view key tables along with the code used to create them. \n",
    "\n",
    "sauermet_known.csv is tab-separated and contains statistically significant metabolite associations (Z-scores, m/z ratios, etc.) for known (functionally characterized based on author's criteria) proteins\n",
    "\n",
    "sauermet_unknown.csv is tab-separated and contains statistically significant metabolite associations (Z-scores, m/z ratios, etc.) for unknown (functionally uncharacterized based on author's criteria) proteins"
   ]
  },
  {
   "cell_type": "code",
   "execution_count": 98,
   "metadata": {},
   "outputs": [],
   "source": [
    "sauermet1 = pd.read_csv('../data/sauermet_known.tsv', sep = '\\t')\n",
    "sauermet2 = pd.read_csv('../data/sauermet_unknown.tsv', sep = '\\t')"
   ]
  },
  {
   "cell_type": "code",
   "execution_count": null,
   "metadata": {},
   "outputs": [],
   "source": []
  }
 ],
 "metadata": {
  "kernelspec": {
   "display_name": "Python 3",
   "language": "python",
   "name": "python3"
  },
  "language_info": {
   "codemirror_mode": {
    "name": "ipython",
    "version": 3
   },
   "file_extension": ".py",
   "mimetype": "text/x-python",
   "name": "python",
   "nbconvert_exporter": "python",
   "pygments_lexer": "ipython3",
   "version": "3.6.5"
  }
 },
 "nbformat": 4,
 "nbformat_minor": 2
}
