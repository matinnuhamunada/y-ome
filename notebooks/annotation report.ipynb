{
 "cells": [
  {
   "cell_type": "markdown",
   "metadata": {},
   "source": [
    "# Generate a report of the database features for a given gene"
   ]
  },
  {
   "cell_type": "code",
   "execution_count": 1,
   "metadata": {},
   "outputs": [],
   "source": [
    "from yome import Session\n",
    "from yome.util import report\n",
    "session = Session()"
   ]
  },
  {
   "cell_type": "code",
   "execution_count": 2,
   "metadata": {},
   "outputs": [
    {
     "name": "stdout",
     "output_type": "stream",
     "text": [
      "locus_id        b4469\n",
      "primary_name     ygiQ\n",
      "Name: 0, dtype: object\n"
     ]
    },
    {
     "data": {
      "text/html": [
       "<style  type=\"text/css\" >\n",
       "    #T_983a287a_f767_11e8_a6b0_a60024489901row0_col0 {\n",
       "            text-align:  left;\n",
       "        }    #T_983a287a_f767_11e8_a6b0_a60024489901row1_col0 {\n",
       "            text-align:  left;\n",
       "        }    #T_983a287a_f767_11e8_a6b0_a60024489901row2_col0 {\n",
       "            text-align:  left;\n",
       "        }    #T_983a287a_f767_11e8_a6b0_a60024489901row3_col0 {\n",
       "            text-align:  left;\n",
       "        }    #T_983a287a_f767_11e8_a6b0_a60024489901row4_col0 {\n",
       "            text-align:  left;\n",
       "        }    #T_983a287a_f767_11e8_a6b0_a60024489901row5_col0 {\n",
       "            text-align:  left;\n",
       "        }    #T_983a287a_f767_11e8_a6b0_a60024489901row6_col0 {\n",
       "            text-align:  left;\n",
       "        }    #T_983a287a_f767_11e8_a6b0_a60024489901row7_col0 {\n",
       "            text-align:  left;\n",
       "        }    #T_983a287a_f767_11e8_a6b0_a60024489901row8_col0 {\n",
       "            text-align:  left;\n",
       "        }    #T_983a287a_f767_11e8_a6b0_a60024489901row9_col0 {\n",
       "            text-align:  left;\n",
       "        }    #T_983a287a_f767_11e8_a6b0_a60024489901row10_col0 {\n",
       "            text-align:  left;\n",
       "        }    #T_983a287a_f767_11e8_a6b0_a60024489901row11_col0 {\n",
       "            text-align:  left;\n",
       "        }    #T_983a287a_f767_11e8_a6b0_a60024489901row12_col0 {\n",
       "            text-align:  left;\n",
       "        }    #T_983a287a_f767_11e8_a6b0_a60024489901row13_col0 {\n",
       "            text-align:  left;\n",
       "        }    #T_983a287a_f767_11e8_a6b0_a60024489901row14_col0 {\n",
       "            text-align:  left;\n",
       "        }    #T_983a287a_f767_11e8_a6b0_a60024489901row15_col0 {\n",
       "            text-align:  left;\n",
       "        }    #T_983a287a_f767_11e8_a6b0_a60024489901row16_col0 {\n",
       "            text-align:  left;\n",
       "        }</style>  \n",
       "<table id=\"T_983a287a_f767_11e8_a6b0_a60024489901\" > \n",
       "<thead>    <tr> \n",
       "        <th class=\"blank\" ></th> \n",
       "        <th class=\"blank level0\" ></th> \n",
       "        <th class=\"col_heading level0 col0\" >feature</th> \n",
       "    </tr>    <tr> \n",
       "        <th class=\"index_name level0\" >knowledgebase_name</th> \n",
       "        <th class=\"index_name level1\" >feature_type</th> \n",
       "        <th class=\"blank\" ></th> \n",
       "    </tr></thead> \n",
       "<tbody>    <tr> \n",
       "        <th id=\"T_983a287a_f767_11e8_a6b0_a60024489901level0_row0\" class=\"row_heading level0 row0\" rowspan=6>EcoCyc (low)</th> \n",
       "        <th id=\"T_983a287a_f767_11e8_a6b0_a60024489901level1_row0\" class=\"row_heading level1 row0\" >description</th> \n",
       "        <td id=\"T_983a287a_f767_11e8_a6b0_a60024489901row0_col0\" class=\"data row0 col0\" >radical SAM superfamily protein YgiQ</td> \n",
       "    </tr>    <tr> \n",
       "        <th id=\"T_983a287a_f767_11e8_a6b0_a60024489901level1_row1\" class=\"row_heading level1 row1\" >summary_html</th> \n",
       "        <td id=\"T_983a287a_f767_11e8_a6b0_a60024489901row1_col0\" class=\"data row1 col0\" >SummaryNo information about this protein was found by a literature search conducted on April 13, 2017.  Citations: \n",
       "[ParadisBleau14]  </td> \n",
       "    </tr>    <tr> \n",
       "        <th id=\"T_983a287a_f767_11e8_a6b0_a60024489901level1_row2\" class=\"row_heading level1 row2\" >product_type</th> \n",
       "        <td id=\"T_983a287a_f767_11e8_a6b0_a60024489901row2_col0\" class=\"data row2 col0\" >polypeptide</td> \n",
       "    </tr>    <tr> \n",
       "        <th id=\"T_983a287a_f767_11e8_a6b0_a60024489901level1_row3\" class=\"row_heading level1 row3\" >is_pseudogene</th> \n",
       "        <td id=\"T_983a287a_f767_11e8_a6b0_a60024489901row3_col0\" class=\"data row3 col0\" >f</td> \n",
       "    </tr>    <tr> \n",
       "        <th id=\"T_983a287a_f767_11e8_a6b0_a60024489901level1_row4\" class=\"row_heading level1 row4\" >is_phantom_gene</th> \n",
       "        <td id=\"T_983a287a_f767_11e8_a6b0_a60024489901row4_col0\" class=\"data row4 col0\" >f</td> \n",
       "    </tr>    <tr> \n",
       "        <th id=\"T_983a287a_f767_11e8_a6b0_a60024489901level1_row5\" class=\"row_heading level1 row5\" >is_insertion_element</th> \n",
       "        <td id=\"T_983a287a_f767_11e8_a6b0_a60024489901row5_col0\" class=\"data row5 col0\" >f</td> \n",
       "    </tr>    <tr> \n",
       "        <th id=\"T_983a287a_f767_11e8_a6b0_a60024489901level0_row6\" class=\"row_heading level0 row6\" rowspan=5>EcoGene (low)</th> \n",
       "        <th id=\"T_983a287a_f767_11e8_a6b0_a60024489901level1_row6\" class=\"row_heading level1 row6\" >protein</th> \n",
       "        <td id=\"T_983a287a_f767_11e8_a6b0_a60024489901row6_col0\" class=\"data row6 col0\" >Radical SAM superfamily protein</td> \n",
       "    </tr>    <tr> \n",
       "        <th id=\"T_983a287a_f767_11e8_a6b0_a60024489901level1_row7\" class=\"row_heading level1 row7\" >function</th> \n",
       "        <td id=\"T_983a287a_f767_11e8_a6b0_a60024489901row7_col0\" class=\"data row7 col0\" >Null</td> \n",
       "    </tr>    <tr> \n",
       "        <th id=\"T_983a287a_f767_11e8_a6b0_a60024489901level1_row8\" class=\"row_heading level1 row8\" >description</th> \n",
       "        <td id=\"T_983a287a_f767_11e8_a6b0_a60024489901row8_col0\" class=\"data row8 col0\" >Radical SAM superfamily protein, function unknown</td> \n",
       "    </tr>    <tr> \n",
       "        <th id=\"T_983a287a_f767_11e8_a6b0_a60024489901level1_row9\" class=\"row_heading level1 row9\" >comments</th> \n",
       "        <td id=\"T_983a287a_f767_11e8_a6b0_a60024489901row9_col0\" class=\"data row9 col0\" >The YgiQ Radical SAM protein has a predicted B12 binding site in its N-terminal domain (K.E.R., unpublished observation). UPF0313 family.</td> \n",
       "    </tr>    <tr> \n",
       "        <th id=\"T_983a287a_f767_11e8_a6b0_a60024489901level1_row10\" class=\"row_heading level1 row10\" >is_pseudogene</th> \n",
       "        <td id=\"T_983a287a_f767_11e8_a6b0_a60024489901row10_col0\" class=\"data row10 col0\" >f</td> \n",
       "    </tr>    <tr> \n",
       "        <th id=\"T_983a287a_f767_11e8_a6b0_a60024489901level0_row11\" class=\"row_heading level0 row11\" rowspan=4>UniProt (low)</th> \n",
       "        <th id=\"T_983a287a_f767_11e8_a6b0_a60024489901level1_row11\" class=\"row_heading level1 row11\" >upid</th> \n",
       "        <td id=\"T_983a287a_f767_11e8_a6b0_a60024489901row11_col0\" class=\"data row11 col0\" >Q46861</td> \n",
       "    </tr>    <tr> \n",
       "        <th id=\"T_983a287a_f767_11e8_a6b0_a60024489901level1_row12\" class=\"row_heading level1 row12\" >protein</th> \n",
       "        <td id=\"T_983a287a_f767_11e8_a6b0_a60024489901row12_col0\" class=\"data row12 col0\" >UPF0313 protein YgiQ</td> \n",
       "    </tr>    <tr> \n",
       "        <th id=\"T_983a287a_f767_11e8_a6b0_a60024489901level1_row13\" class=\"row_heading level1 row13\" >features</th> \n",
       "        <td id=\"T_983a287a_f767_11e8_a6b0_a60024489901row13_col0\" class=\"data row13 col0\" >Chain (1); Frameshift (2); Metal binding (3)</td> \n",
       "    </tr>    <tr> \n",
       "        <th id=\"T_983a287a_f767_11e8_a6b0_a60024489901level1_row14\" class=\"row_heading level1 row14\" >annotation_score</th> \n",
       "        <td id=\"T_983a287a_f767_11e8_a6b0_a60024489901row14_col0\" class=\"data row14 col0\" >2</td> \n",
       "    </tr>    <tr> \n",
       "        <th id=\"T_983a287a_f767_11e8_a6b0_a60024489901level0_row15\" class=\"row_heading level0 row15\" >RefSeq (tbd)</th> \n",
       "        <th id=\"T_983a287a_f767_11e8_a6b0_a60024489901level1_row15\" class=\"row_heading level1 row15\" >product</th> \n",
       "        <td id=\"T_983a287a_f767_11e8_a6b0_a60024489901row15_col0\" class=\"data row15 col0\" >Radical SAM superfamily protein</td> \n",
       "    </tr>    <tr> \n",
       "        <th id=\"T_983a287a_f767_11e8_a6b0_a60024489901level0_row16\" class=\"row_heading level0 row16\" >y-ome (low)</th> \n",
       "        <th id=\"T_983a287a_f767_11e8_a6b0_a60024489901level1_row16\" class=\"row_heading level1 row16\" >nan</th> \n",
       "        <td id=\"T_983a287a_f767_11e8_a6b0_a60024489901row16_col0\" class=\"data row16 col0\" >nan</td> \n",
       "    </tr></tbody> \n",
       "</table> "
      ],
      "text/plain": [
       "<IPython.core.display.HTML object>"
      ]
     },
     "execution_count": 2,
     "metadata": {},
     "output_type": "execute_result"
    }
   ],
   "source": [
    "report(\n",
    "    session, \n",
    "    'ygiQ', # gene locus tag or primary name\n",
    ")"
   ]
  },
  {
   "cell_type": "code",
   "execution_count": null,
   "metadata": {},
   "outputs": [],
   "source": []
  }
 ],
 "metadata": {
  "kernelspec": {
   "display_name": "Python 3",
   "language": "python",
   "name": "python3"
  },
  "language_info": {
   "codemirror_mode": {
    "name": "ipython",
    "version": 3
   },
   "file_extension": ".py",
   "mimetype": "text/x-python",
   "name": "python",
   "nbconvert_exporter": "python",
   "pygments_lexer": "ipython3",
   "version": "3.7.0"
  }
 },
 "nbformat": 4,
 "nbformat_minor": 2
}
