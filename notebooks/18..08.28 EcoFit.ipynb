{
 "cells": [
  {
   "cell_type": "markdown",
   "metadata": {},
   "source": [
    "https://docs.google.com/document/d/1iHS3AkmFTBpOgzQhMffH-rxfxiCenWmmkn7BZz4oXoM/edit"
   ]
  },
  {
   "cell_type": "code",
   "execution_count": 37,
   "metadata": {},
   "outputs": [],
   "source": [
    "import pandas as pd\n",
    "import seaborn as sns\n",
    "from sqlalchemy.orm import aliased\n",
    "\n",
    "from yome import Session\n",
    "from yome.models import *\n",
    "from yome.util import to_df, report, scale_color, mpl_setup\n",
    "from yome.constants import colors, hatches_by_number"
   ]
  },
  {
   "cell_type": "code",
   "execution_count": 10,
   "metadata": {},
   "outputs": [
    {
     "name": "stdout",
     "output_type": "stream",
     "text": [
      "Populating the interactive namespace from numpy and matplotlib\n"
     ]
    }
   ],
   "source": [
    "%mpl_setup"
   ]
  },
  {
   "cell_type": "code",
   "execution_count": 11,
   "metadata": {},
   "outputs": [],
   "source": [
    "sns.set_style('ticks')"
   ]
  },
  {
   "cell_type": "code",
   "execution_count": 12,
   "metadata": {},
   "outputs": [],
   "source": [
    "session = Session()"
   ]
  },
  {
   "cell_type": "markdown",
   "metadata": {},
   "source": [
    "# EcoFit"
   ]
  },
  {
   "cell_type": "markdown",
   "metadata": {},
   "source": [
    "For More Information about strains, fitness, specphes (specific phenotype), and the t-test like statistic. Raw data is here too:\n",
    "http://genomics.lbl.gov/supplemental/bigfit/html/Keio/\n",
    "\n",
    "Full Publication: https://www.biorxiv.org/content/early/2016/08/31/072470\n",
    "\n",
    "Run the jupyter notebook to view key plots and view code used to generate them. \n",
    "\n",
    "fit_logratios_good.tab is tab-separated and has the fitness data for all strains across all conditions\n",
    "\n",
    "expsUsed.txt is tab-separated and has metadata for all of the experimental condtions\n",
    "\n",
    "key_phen.txt is tab-separated and has fitness data for all of the strain-condition pairs that were determined to be specific phenotypes (specphe)"
   ]
  },
  {
   "cell_type": "code",
   "execution_count": 82,
   "metadata": {},
   "outputs": [],
   "source": [
    "genefit = pd.read_csv('../data/fit_logratios_good.tab', sep='\\t')"
   ]
  },
  {
   "cell_type": "code",
   "execution_count": 83,
   "metadata": {},
   "outputs": [],
   "source": [
    "meta = pd.read_csv('../data/expsUsed.txt', sep='\\t')\n",
    "meta = meta.drop(['SetName', 'Index','Drop', 'num',],1)"
   ]
  },
  {
   "cell_type": "code",
   "execution_count": 92,
   "metadata": {},
   "outputs": [],
   "source": [
    "phen = pd.read_csv('../data/key_phen.txt', sep='\\t')\n",
    "# phen.columns = phen.columns.str.replace('specphe.','')\n",
    "# match = genefit[genefit.locusId.isin(phen.locusId)]\n",
    "# for index, row in phen.iterrows():\n",
    "#     for index2, row2 in match.iterrows():\n",
    "#         if row.locusId == row2.locusId:\n",
    "#             phen.loc[index, 'b_num'] = row2.sysName\n",
    "# phen = phen.drop(['Condition_2', 'Concentration_2', 'Units_2', 'locusId' ],1)"
   ]
  },
  {
   "cell_type": "code",
   "execution_count": 93,
   "metadata": {},
   "outputs": [],
   "source": [
    "allfit = pd.read_csv('../data/fit_logratios_good.tab', sep = '\\t')\n",
    "# all_t = pd.read_csv('../data/fit_t.tab', sep = '\\t')"
   ]
  },
  {
   "cell_type": "markdown",
   "metadata": {},
   "source": [
    "TODO\n",
    "\n",
    "- compare to http://fit.genomics.lbl.gov/cgi-bin/orgReanno.cgi?orgId=Keio"
   ]
  }
 ],
 "metadata": {
  "kernelspec": {
   "display_name": "Python 3",
   "language": "python",
   "name": "python3"
  },
  "language_info": {
   "codemirror_mode": {
    "name": "ipython",
    "version": 3
   },
   "file_extension": ".py",
   "mimetype": "text/x-python",
   "name": "python",
   "nbconvert_exporter": "python",
   "pygments_lexer": "ipython3",
   "version": "3.6.5"
  }
 },
 "nbformat": 4,
 "nbformat_minor": 2
}
